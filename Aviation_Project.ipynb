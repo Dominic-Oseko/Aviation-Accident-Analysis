{
 "cells": [
  {
   "cell_type": "markdown",
   "id": "fde994a9",
   "metadata": {},
   "source": [
    "# Aviation Accident Analysis"
   ]
  },
  {
   "cell_type": "markdown",
   "id": "6b105388",
   "metadata": {},
   "source": [
    "  # 1. Business Understanding"
   ]
  },
  {
   "cell_type": "markdown",
   "id": "6ccd4e2a",
   "metadata": {},
   "source": [
    "  ### Problem Statement"
   ]
  },
  {
   "cell_type": "markdown",
   "id": "adb17735",
   "metadata": {},
   "source": [
    "A company is expanding into new industries to diversify its portfolio, with a specific interest in acquiring and operating airplanes for both commercial and private ventures. However, they lack knowledge about the potential risks associated with aircraft. The objective is to identify which aircraft pose the lowest risk for the company to enter this new market. These findings should be converted into actionable insights to guide the head of the new aviation division in making informed decisions about aircraft purchases."
   ]
  },
  {
   "cell_type": "markdown",
   "id": "49306721",
   "metadata": {},
   "source": [
    "  ### Goal"
   ]
  },
  {
   "cell_type": "markdown",
   "id": "e4c5517a",
   "metadata": {},
   "source": [
    "The objective of this project is to employ data cleaning, imputation, analysis, and visualization to generate valuable insights for a business stakeholder interested in acquiring and operating airplanes for commercial and private ventures.\n",
    "\n",
    "The goal is to convert these findings into actionable insights that will assist the head of the new aviation division in making informed decisions about which aircraft to purchase."
   ]
  },
  {
   "cell_type": "markdown",
   "id": "f2b81939",
   "metadata": {},
   "source": [
    "  ### Objectives"
   ]
  },
  {
   "cell_type": "markdown",
   "id": "5d8bc00a",
   "metadata": {},
   "source": [
    "  ### General Objective"
   ]
  },
  {
   "cell_type": "markdown",
   "id": "13e4cb55",
   "metadata": {},
   "source": [
    "To determine which aircraft are least likely to be involved in accidents. This information will assist the head of the new aviation division in making informed decisions on which aircraft to purchase and operate for commercial and private ventures."
   ]
  },
  {
   "cell_type": "markdown",
   "id": "f7d27850",
   "metadata": {},
   "source": [
    "  ### General Objectives"
   ]
  },
  {
   "cell_type": "markdown",
   "id": "a1700d8d",
   "metadata": {},
   "source": [
    "1. To understand the problem statement, the project's objectives, and the dataset utilized.\n",
    "2. To apply data cleaning techniques to generate actionable insights.\n",
    "3. To analyze the data through univariate and bivariate analysis of variables."
   ]
  },
  {
   "cell_type": "markdown",
   "id": "f76a06b3",
   "metadata": {},
   "source": [
    "# 2. Data Understanding"
   ]
  },
  {
   "cell_type": "markdown",
   "id": "b789a5bb",
   "metadata": {},
   "source": [
    "### Importing Libraries"
   ]
  },
  {
   "cell_type": "markdown",
   "id": "48fde600",
   "metadata": {},
   "source": [
    "Through importing various types of libraries we'll be able to understand the aviation dataset much easier."
   ]
  },
  {
   "cell_type": "code",
   "execution_count": 1,
   "id": "7c8d71b9",
   "metadata": {},
   "outputs": [],
   "source": [
    "#Pandas is especially well-suited to handling tabular data (represented as rows and columns).\n",
    "import pandas as pd\n",
    "#Numpy provides useful functionality for mathematical operations on vectors and matrices in Python.\n",
    "import numpy as np\n",
    "#Matplotlib is tailored for the generation of simple and powerful visualizations.\n",
    "import matplotlib.pyplot as plt\n",
    "#Seaborn targets statistical data visualizations, which may be more time-consuming to implement using Matplotlib.\n",
    "import seaborn as sns\n",
    "#Helps display the calendar by importing the calendar module to our program.\n",
    "import calendar\n",
    "#Helps provides a way to control how warnings are handled within a Python script.\n",
    "import warnings\n",
    "warnings.filterwarnings(\"ignore\")"
   ]
  },
  {
   "cell_type": "markdown",
   "id": "5632079c",
   "metadata": {},
   "source": [
    "  ### Data Description"
   ]
  },
  {
   "cell_type": "markdown",
   "id": "6f1bed0d",
   "metadata": {},
   "source": [
    "The data used is from the National Transportation Safety Board that includes aviation accident data from 1962 to 2023 about civil aviation accidents and selected incidents in the United States and international waters."
   ]
  },
  {
   "cell_type": "markdown",
   "id": "b139fab9",
   "metadata": {},
   "source": [
    "### Loading Datasets"
   ]
  },
  {
   "cell_type": "markdown",
   "id": "16bab850",
   "metadata": {},
   "source": [
    "I will use the aviation dataset which is provided by the National Transportation Safety Board."
   ]
  },
  {
   "cell_type": "code",
   "execution_count": 2,
   "id": "8c023e32",
   "metadata": {},
   "outputs": [
    {
     "data": {
      "text/html": [
       "<div>\n",
       "<style scoped>\n",
       "    .dataframe tbody tr th:only-of-type {\n",
       "        vertical-align: middle;\n",
       "    }\n",
       "\n",
       "    .dataframe tbody tr th {\n",
       "        vertical-align: top;\n",
       "    }\n",
       "\n",
       "    .dataframe thead th {\n",
       "        text-align: right;\n",
       "    }\n",
       "</style>\n",
       "<table border=\"1\" class=\"dataframe\">\n",
       "  <thead>\n",
       "    <tr style=\"text-align: right;\">\n",
       "      <th></th>\n",
       "      <th>Event.Id</th>\n",
       "      <th>Investigation.Type</th>\n",
       "      <th>Accident.Number</th>\n",
       "      <th>Event.Date</th>\n",
       "      <th>Location</th>\n",
       "      <th>Country</th>\n",
       "      <th>Latitude</th>\n",
       "      <th>Longitude</th>\n",
       "      <th>Airport.Code</th>\n",
       "      <th>Airport.Name</th>\n",
       "      <th>...</th>\n",
       "      <th>Purpose.of.flight</th>\n",
       "      <th>Air.carrier</th>\n",
       "      <th>Total.Fatal.Injuries</th>\n",
       "      <th>Total.Serious.Injuries</th>\n",
       "      <th>Total.Minor.Injuries</th>\n",
       "      <th>Total.Uninjured</th>\n",
       "      <th>Weather.Condition</th>\n",
       "      <th>Broad.phase.of.flight</th>\n",
       "      <th>Report.Status</th>\n",
       "      <th>Publication.Date</th>\n",
       "    </tr>\n",
       "  </thead>\n",
       "  <tbody>\n",
       "    <tr>\n",
       "      <th>0</th>\n",
       "      <td>20001218X45444</td>\n",
       "      <td>Accident</td>\n",
       "      <td>SEA87LA080</td>\n",
       "      <td>1948-10-24</td>\n",
       "      <td>MOOSE CREEK, ID</td>\n",
       "      <td>United States</td>\n",
       "      <td>NaN</td>\n",
       "      <td>NaN</td>\n",
       "      <td>NaN</td>\n",
       "      <td>NaN</td>\n",
       "      <td>...</td>\n",
       "      <td>Personal</td>\n",
       "      <td>NaN</td>\n",
       "      <td>2.0</td>\n",
       "      <td>0.0</td>\n",
       "      <td>0.0</td>\n",
       "      <td>0.0</td>\n",
       "      <td>UNK</td>\n",
       "      <td>Cruise</td>\n",
       "      <td>Probable Cause</td>\n",
       "      <td>NaN</td>\n",
       "    </tr>\n",
       "    <tr>\n",
       "      <th>1</th>\n",
       "      <td>20001218X45447</td>\n",
       "      <td>Accident</td>\n",
       "      <td>LAX94LA336</td>\n",
       "      <td>1962-07-19</td>\n",
       "      <td>BRIDGEPORT, CA</td>\n",
       "      <td>United States</td>\n",
       "      <td>NaN</td>\n",
       "      <td>NaN</td>\n",
       "      <td>NaN</td>\n",
       "      <td>NaN</td>\n",
       "      <td>...</td>\n",
       "      <td>Personal</td>\n",
       "      <td>NaN</td>\n",
       "      <td>4.0</td>\n",
       "      <td>0.0</td>\n",
       "      <td>0.0</td>\n",
       "      <td>0.0</td>\n",
       "      <td>UNK</td>\n",
       "      <td>Unknown</td>\n",
       "      <td>Probable Cause</td>\n",
       "      <td>19-09-1996</td>\n",
       "    </tr>\n",
       "    <tr>\n",
       "      <th>2</th>\n",
       "      <td>20061025X01555</td>\n",
       "      <td>Accident</td>\n",
       "      <td>NYC07LA005</td>\n",
       "      <td>1974-08-30</td>\n",
       "      <td>Saltville, VA</td>\n",
       "      <td>United States</td>\n",
       "      <td>36.922223</td>\n",
       "      <td>-81.878056</td>\n",
       "      <td>NaN</td>\n",
       "      <td>NaN</td>\n",
       "      <td>...</td>\n",
       "      <td>Personal</td>\n",
       "      <td>NaN</td>\n",
       "      <td>3.0</td>\n",
       "      <td>NaN</td>\n",
       "      <td>NaN</td>\n",
       "      <td>NaN</td>\n",
       "      <td>IMC</td>\n",
       "      <td>Cruise</td>\n",
       "      <td>Probable Cause</td>\n",
       "      <td>26-02-2007</td>\n",
       "    </tr>\n",
       "    <tr>\n",
       "      <th>3</th>\n",
       "      <td>20001218X45448</td>\n",
       "      <td>Accident</td>\n",
       "      <td>LAX96LA321</td>\n",
       "      <td>1977-06-19</td>\n",
       "      <td>EUREKA, CA</td>\n",
       "      <td>United States</td>\n",
       "      <td>NaN</td>\n",
       "      <td>NaN</td>\n",
       "      <td>NaN</td>\n",
       "      <td>NaN</td>\n",
       "      <td>...</td>\n",
       "      <td>Personal</td>\n",
       "      <td>NaN</td>\n",
       "      <td>2.0</td>\n",
       "      <td>0.0</td>\n",
       "      <td>0.0</td>\n",
       "      <td>0.0</td>\n",
       "      <td>IMC</td>\n",
       "      <td>Cruise</td>\n",
       "      <td>Probable Cause</td>\n",
       "      <td>12-09-2000</td>\n",
       "    </tr>\n",
       "    <tr>\n",
       "      <th>4</th>\n",
       "      <td>20041105X01764</td>\n",
       "      <td>Accident</td>\n",
       "      <td>CHI79FA064</td>\n",
       "      <td>1979-08-02</td>\n",
       "      <td>Canton, OH</td>\n",
       "      <td>United States</td>\n",
       "      <td>NaN</td>\n",
       "      <td>NaN</td>\n",
       "      <td>NaN</td>\n",
       "      <td>NaN</td>\n",
       "      <td>...</td>\n",
       "      <td>Personal</td>\n",
       "      <td>NaN</td>\n",
       "      <td>1.0</td>\n",
       "      <td>2.0</td>\n",
       "      <td>NaN</td>\n",
       "      <td>0.0</td>\n",
       "      <td>VMC</td>\n",
       "      <td>Approach</td>\n",
       "      <td>Probable Cause</td>\n",
       "      <td>16-04-1980</td>\n",
       "    </tr>\n",
       "    <tr>\n",
       "      <th>...</th>\n",
       "      <td>...</td>\n",
       "      <td>...</td>\n",
       "      <td>...</td>\n",
       "      <td>...</td>\n",
       "      <td>...</td>\n",
       "      <td>...</td>\n",
       "      <td>...</td>\n",
       "      <td>...</td>\n",
       "      <td>...</td>\n",
       "      <td>...</td>\n",
       "      <td>...</td>\n",
       "      <td>...</td>\n",
       "      <td>...</td>\n",
       "      <td>...</td>\n",
       "      <td>...</td>\n",
       "      <td>...</td>\n",
       "      <td>...</td>\n",
       "      <td>...</td>\n",
       "      <td>...</td>\n",
       "      <td>...</td>\n",
       "      <td>...</td>\n",
       "    </tr>\n",
       "    <tr>\n",
       "      <th>88884</th>\n",
       "      <td>20221227106491</td>\n",
       "      <td>Accident</td>\n",
       "      <td>ERA23LA093</td>\n",
       "      <td>2022-12-26</td>\n",
       "      <td>Annapolis, MD</td>\n",
       "      <td>United States</td>\n",
       "      <td>NaN</td>\n",
       "      <td>NaN</td>\n",
       "      <td>NaN</td>\n",
       "      <td>NaN</td>\n",
       "      <td>...</td>\n",
       "      <td>Personal</td>\n",
       "      <td>NaN</td>\n",
       "      <td>0.0</td>\n",
       "      <td>1.0</td>\n",
       "      <td>0.0</td>\n",
       "      <td>0.0</td>\n",
       "      <td>NaN</td>\n",
       "      <td>NaN</td>\n",
       "      <td>NaN</td>\n",
       "      <td>29-12-2022</td>\n",
       "    </tr>\n",
       "    <tr>\n",
       "      <th>88885</th>\n",
       "      <td>20221227106494</td>\n",
       "      <td>Accident</td>\n",
       "      <td>ERA23LA095</td>\n",
       "      <td>2022-12-26</td>\n",
       "      <td>Hampton, NH</td>\n",
       "      <td>United States</td>\n",
       "      <td>NaN</td>\n",
       "      <td>NaN</td>\n",
       "      <td>NaN</td>\n",
       "      <td>NaN</td>\n",
       "      <td>...</td>\n",
       "      <td>NaN</td>\n",
       "      <td>NaN</td>\n",
       "      <td>0.0</td>\n",
       "      <td>0.0</td>\n",
       "      <td>0.0</td>\n",
       "      <td>0.0</td>\n",
       "      <td>NaN</td>\n",
       "      <td>NaN</td>\n",
       "      <td>NaN</td>\n",
       "      <td>NaN</td>\n",
       "    </tr>\n",
       "    <tr>\n",
       "      <th>88886</th>\n",
       "      <td>20221227106497</td>\n",
       "      <td>Accident</td>\n",
       "      <td>WPR23LA075</td>\n",
       "      <td>2022-12-26</td>\n",
       "      <td>Payson, AZ</td>\n",
       "      <td>United States</td>\n",
       "      <td>341525N</td>\n",
       "      <td>1112021W</td>\n",
       "      <td>PAN</td>\n",
       "      <td>PAYSON</td>\n",
       "      <td>...</td>\n",
       "      <td>Personal</td>\n",
       "      <td>NaN</td>\n",
       "      <td>0.0</td>\n",
       "      <td>0.0</td>\n",
       "      <td>0.0</td>\n",
       "      <td>1.0</td>\n",
       "      <td>VMC</td>\n",
       "      <td>NaN</td>\n",
       "      <td>NaN</td>\n",
       "      <td>27-12-2022</td>\n",
       "    </tr>\n",
       "    <tr>\n",
       "      <th>88887</th>\n",
       "      <td>20221227106498</td>\n",
       "      <td>Accident</td>\n",
       "      <td>WPR23LA076</td>\n",
       "      <td>2022-12-26</td>\n",
       "      <td>Morgan, UT</td>\n",
       "      <td>United States</td>\n",
       "      <td>NaN</td>\n",
       "      <td>NaN</td>\n",
       "      <td>NaN</td>\n",
       "      <td>NaN</td>\n",
       "      <td>...</td>\n",
       "      <td>Personal</td>\n",
       "      <td>MC CESSNA 210N LLC</td>\n",
       "      <td>0.0</td>\n",
       "      <td>0.0</td>\n",
       "      <td>0.0</td>\n",
       "      <td>0.0</td>\n",
       "      <td>NaN</td>\n",
       "      <td>NaN</td>\n",
       "      <td>NaN</td>\n",
       "      <td>NaN</td>\n",
       "    </tr>\n",
       "    <tr>\n",
       "      <th>88888</th>\n",
       "      <td>20221230106513</td>\n",
       "      <td>Accident</td>\n",
       "      <td>ERA23LA097</td>\n",
       "      <td>2022-12-29</td>\n",
       "      <td>Athens, GA</td>\n",
       "      <td>United States</td>\n",
       "      <td>NaN</td>\n",
       "      <td>NaN</td>\n",
       "      <td>NaN</td>\n",
       "      <td>NaN</td>\n",
       "      <td>...</td>\n",
       "      <td>Personal</td>\n",
       "      <td>NaN</td>\n",
       "      <td>0.0</td>\n",
       "      <td>1.0</td>\n",
       "      <td>0.0</td>\n",
       "      <td>1.0</td>\n",
       "      <td>NaN</td>\n",
       "      <td>NaN</td>\n",
       "      <td>NaN</td>\n",
       "      <td>30-12-2022</td>\n",
       "    </tr>\n",
       "  </tbody>\n",
       "</table>\n",
       "<p>88889 rows × 31 columns</p>\n",
       "</div>"
      ],
      "text/plain": [
       "             Event.Id Investigation.Type Accident.Number  Event.Date  \\\n",
       "0      20001218X45444           Accident      SEA87LA080  1948-10-24   \n",
       "1      20001218X45447           Accident      LAX94LA336  1962-07-19   \n",
       "2      20061025X01555           Accident      NYC07LA005  1974-08-30   \n",
       "3      20001218X45448           Accident      LAX96LA321  1977-06-19   \n",
       "4      20041105X01764           Accident      CHI79FA064  1979-08-02   \n",
       "...               ...                ...             ...         ...   \n",
       "88884  20221227106491           Accident      ERA23LA093  2022-12-26   \n",
       "88885  20221227106494           Accident      ERA23LA095  2022-12-26   \n",
       "88886  20221227106497           Accident      WPR23LA075  2022-12-26   \n",
       "88887  20221227106498           Accident      WPR23LA076  2022-12-26   \n",
       "88888  20221230106513           Accident      ERA23LA097  2022-12-29   \n",
       "\n",
       "              Location        Country   Latitude  Longitude Airport.Code  \\\n",
       "0      MOOSE CREEK, ID  United States        NaN        NaN          NaN   \n",
       "1       BRIDGEPORT, CA  United States        NaN        NaN          NaN   \n",
       "2        Saltville, VA  United States  36.922223 -81.878056          NaN   \n",
       "3           EUREKA, CA  United States        NaN        NaN          NaN   \n",
       "4           Canton, OH  United States        NaN        NaN          NaN   \n",
       "...                ...            ...        ...        ...          ...   \n",
       "88884    Annapolis, MD  United States        NaN        NaN          NaN   \n",
       "88885      Hampton, NH  United States        NaN        NaN          NaN   \n",
       "88886       Payson, AZ  United States    341525N   1112021W          PAN   \n",
       "88887       Morgan, UT  United States        NaN        NaN          NaN   \n",
       "88888       Athens, GA  United States        NaN        NaN          NaN   \n",
       "\n",
       "      Airport.Name  ... Purpose.of.flight         Air.carrier  \\\n",
       "0              NaN  ...          Personal                 NaN   \n",
       "1              NaN  ...          Personal                 NaN   \n",
       "2              NaN  ...          Personal                 NaN   \n",
       "3              NaN  ...          Personal                 NaN   \n",
       "4              NaN  ...          Personal                 NaN   \n",
       "...            ...  ...               ...                 ...   \n",
       "88884          NaN  ...          Personal                 NaN   \n",
       "88885          NaN  ...               NaN                 NaN   \n",
       "88886       PAYSON  ...          Personal                 NaN   \n",
       "88887          NaN  ...          Personal  MC CESSNA 210N LLC   \n",
       "88888          NaN  ...          Personal                 NaN   \n",
       "\n",
       "      Total.Fatal.Injuries Total.Serious.Injuries Total.Minor.Injuries  \\\n",
       "0                      2.0                    0.0                  0.0   \n",
       "1                      4.0                    0.0                  0.0   \n",
       "2                      3.0                    NaN                  NaN   \n",
       "3                      2.0                    0.0                  0.0   \n",
       "4                      1.0                    2.0                  NaN   \n",
       "...                    ...                    ...                  ...   \n",
       "88884                  0.0                    1.0                  0.0   \n",
       "88885                  0.0                    0.0                  0.0   \n",
       "88886                  0.0                    0.0                  0.0   \n",
       "88887                  0.0                    0.0                  0.0   \n",
       "88888                  0.0                    1.0                  0.0   \n",
       "\n",
       "      Total.Uninjured Weather.Condition  Broad.phase.of.flight  \\\n",
       "0                 0.0               UNK                 Cruise   \n",
       "1                 0.0               UNK                Unknown   \n",
       "2                 NaN               IMC                 Cruise   \n",
       "3                 0.0               IMC                 Cruise   \n",
       "4                 0.0               VMC               Approach   \n",
       "...               ...               ...                    ...   \n",
       "88884             0.0               NaN                    NaN   \n",
       "88885             0.0               NaN                    NaN   \n",
       "88886             1.0               VMC                    NaN   \n",
       "88887             0.0               NaN                    NaN   \n",
       "88888             1.0               NaN                    NaN   \n",
       "\n",
       "        Report.Status Publication.Date  \n",
       "0      Probable Cause              NaN  \n",
       "1      Probable Cause       19-09-1996  \n",
       "2      Probable Cause       26-02-2007  \n",
       "3      Probable Cause       12-09-2000  \n",
       "4      Probable Cause       16-04-1980  \n",
       "...               ...              ...  \n",
       "88884             NaN       29-12-2022  \n",
       "88885             NaN              NaN  \n",
       "88886             NaN       27-12-2022  \n",
       "88887             NaN              NaN  \n",
       "88888             NaN       30-12-2022  \n",
       "\n",
       "[88889 rows x 31 columns]"
      ]
     },
     "execution_count": 2,
     "metadata": {},
     "output_type": "execute_result"
    }
   ],
   "source": [
    "data = pd.read_csv('AviationData.csv', encoding='latin1')\n",
    "data"
   ]
  },
  {
   "cell_type": "markdown",
   "id": "8ea9bb52",
   "metadata": {},
   "source": [
    "### Dataset Exploration"
   ]
  },
  {
   "cell_type": "markdown",
   "id": "ae50d2ba",
   "metadata": {},
   "source": [
    "By exploring our data we'll be able to understand what it contains before we derive insights."
   ]
  },
  {
   "cell_type": "code",
   "execution_count": 3,
   "id": "48f568e3",
   "metadata": {},
   "outputs": [
    {
     "data": {
      "text/html": [
       "<div>\n",
       "<style scoped>\n",
       "    .dataframe tbody tr th:only-of-type {\n",
       "        vertical-align: middle;\n",
       "    }\n",
       "\n",
       "    .dataframe tbody tr th {\n",
       "        vertical-align: top;\n",
       "    }\n",
       "\n",
       "    .dataframe thead th {\n",
       "        text-align: right;\n",
       "    }\n",
       "</style>\n",
       "<table border=\"1\" class=\"dataframe\">\n",
       "  <thead>\n",
       "    <tr style=\"text-align: right;\">\n",
       "      <th></th>\n",
       "      <th>Event.Id</th>\n",
       "      <th>Investigation.Type</th>\n",
       "      <th>Accident.Number</th>\n",
       "      <th>Event.Date</th>\n",
       "      <th>Location</th>\n",
       "      <th>Country</th>\n",
       "      <th>Latitude</th>\n",
       "      <th>Longitude</th>\n",
       "      <th>Airport.Code</th>\n",
       "      <th>Airport.Name</th>\n",
       "      <th>...</th>\n",
       "      <th>Purpose.of.flight</th>\n",
       "      <th>Air.carrier</th>\n",
       "      <th>Total.Fatal.Injuries</th>\n",
       "      <th>Total.Serious.Injuries</th>\n",
       "      <th>Total.Minor.Injuries</th>\n",
       "      <th>Total.Uninjured</th>\n",
       "      <th>Weather.Condition</th>\n",
       "      <th>Broad.phase.of.flight</th>\n",
       "      <th>Report.Status</th>\n",
       "      <th>Publication.Date</th>\n",
       "    </tr>\n",
       "  </thead>\n",
       "  <tbody>\n",
       "    <tr>\n",
       "      <th>0</th>\n",
       "      <td>20001218X45444</td>\n",
       "      <td>Accident</td>\n",
       "      <td>SEA87LA080</td>\n",
       "      <td>1948-10-24</td>\n",
       "      <td>MOOSE CREEK, ID</td>\n",
       "      <td>United States</td>\n",
       "      <td>NaN</td>\n",
       "      <td>NaN</td>\n",
       "      <td>NaN</td>\n",
       "      <td>NaN</td>\n",
       "      <td>...</td>\n",
       "      <td>Personal</td>\n",
       "      <td>NaN</td>\n",
       "      <td>2.0</td>\n",
       "      <td>0.0</td>\n",
       "      <td>0.0</td>\n",
       "      <td>0.0</td>\n",
       "      <td>UNK</td>\n",
       "      <td>Cruise</td>\n",
       "      <td>Probable Cause</td>\n",
       "      <td>NaN</td>\n",
       "    </tr>\n",
       "    <tr>\n",
       "      <th>1</th>\n",
       "      <td>20001218X45447</td>\n",
       "      <td>Accident</td>\n",
       "      <td>LAX94LA336</td>\n",
       "      <td>1962-07-19</td>\n",
       "      <td>BRIDGEPORT, CA</td>\n",
       "      <td>United States</td>\n",
       "      <td>NaN</td>\n",
       "      <td>NaN</td>\n",
       "      <td>NaN</td>\n",
       "      <td>NaN</td>\n",
       "      <td>...</td>\n",
       "      <td>Personal</td>\n",
       "      <td>NaN</td>\n",
       "      <td>4.0</td>\n",
       "      <td>0.0</td>\n",
       "      <td>0.0</td>\n",
       "      <td>0.0</td>\n",
       "      <td>UNK</td>\n",
       "      <td>Unknown</td>\n",
       "      <td>Probable Cause</td>\n",
       "      <td>19-09-1996</td>\n",
       "    </tr>\n",
       "    <tr>\n",
       "      <th>2</th>\n",
       "      <td>20061025X01555</td>\n",
       "      <td>Accident</td>\n",
       "      <td>NYC07LA005</td>\n",
       "      <td>1974-08-30</td>\n",
       "      <td>Saltville, VA</td>\n",
       "      <td>United States</td>\n",
       "      <td>36.922223</td>\n",
       "      <td>-81.878056</td>\n",
       "      <td>NaN</td>\n",
       "      <td>NaN</td>\n",
       "      <td>...</td>\n",
       "      <td>Personal</td>\n",
       "      <td>NaN</td>\n",
       "      <td>3.0</td>\n",
       "      <td>NaN</td>\n",
       "      <td>NaN</td>\n",
       "      <td>NaN</td>\n",
       "      <td>IMC</td>\n",
       "      <td>Cruise</td>\n",
       "      <td>Probable Cause</td>\n",
       "      <td>26-02-2007</td>\n",
       "    </tr>\n",
       "    <tr>\n",
       "      <th>3</th>\n",
       "      <td>20001218X45448</td>\n",
       "      <td>Accident</td>\n",
       "      <td>LAX96LA321</td>\n",
       "      <td>1977-06-19</td>\n",
       "      <td>EUREKA, CA</td>\n",
       "      <td>United States</td>\n",
       "      <td>NaN</td>\n",
       "      <td>NaN</td>\n",
       "      <td>NaN</td>\n",
       "      <td>NaN</td>\n",
       "      <td>...</td>\n",
       "      <td>Personal</td>\n",
       "      <td>NaN</td>\n",
       "      <td>2.0</td>\n",
       "      <td>0.0</td>\n",
       "      <td>0.0</td>\n",
       "      <td>0.0</td>\n",
       "      <td>IMC</td>\n",
       "      <td>Cruise</td>\n",
       "      <td>Probable Cause</td>\n",
       "      <td>12-09-2000</td>\n",
       "    </tr>\n",
       "    <tr>\n",
       "      <th>4</th>\n",
       "      <td>20041105X01764</td>\n",
       "      <td>Accident</td>\n",
       "      <td>CHI79FA064</td>\n",
       "      <td>1979-08-02</td>\n",
       "      <td>Canton, OH</td>\n",
       "      <td>United States</td>\n",
       "      <td>NaN</td>\n",
       "      <td>NaN</td>\n",
       "      <td>NaN</td>\n",
       "      <td>NaN</td>\n",
       "      <td>...</td>\n",
       "      <td>Personal</td>\n",
       "      <td>NaN</td>\n",
       "      <td>1.0</td>\n",
       "      <td>2.0</td>\n",
       "      <td>NaN</td>\n",
       "      <td>0.0</td>\n",
       "      <td>VMC</td>\n",
       "      <td>Approach</td>\n",
       "      <td>Probable Cause</td>\n",
       "      <td>16-04-1980</td>\n",
       "    </tr>\n",
       "  </tbody>\n",
       "</table>\n",
       "<p>5 rows × 31 columns</p>\n",
       "</div>"
      ],
      "text/plain": [
       "         Event.Id Investigation.Type Accident.Number  Event.Date  \\\n",
       "0  20001218X45444           Accident      SEA87LA080  1948-10-24   \n",
       "1  20001218X45447           Accident      LAX94LA336  1962-07-19   \n",
       "2  20061025X01555           Accident      NYC07LA005  1974-08-30   \n",
       "3  20001218X45448           Accident      LAX96LA321  1977-06-19   \n",
       "4  20041105X01764           Accident      CHI79FA064  1979-08-02   \n",
       "\n",
       "          Location        Country   Latitude  Longitude Airport.Code  \\\n",
       "0  MOOSE CREEK, ID  United States        NaN        NaN          NaN   \n",
       "1   BRIDGEPORT, CA  United States        NaN        NaN          NaN   \n",
       "2    Saltville, VA  United States  36.922223 -81.878056          NaN   \n",
       "3       EUREKA, CA  United States        NaN        NaN          NaN   \n",
       "4       Canton, OH  United States        NaN        NaN          NaN   \n",
       "\n",
       "  Airport.Name  ... Purpose.of.flight Air.carrier Total.Fatal.Injuries  \\\n",
       "0          NaN  ...          Personal         NaN                  2.0   \n",
       "1          NaN  ...          Personal         NaN                  4.0   \n",
       "2          NaN  ...          Personal         NaN                  3.0   \n",
       "3          NaN  ...          Personal         NaN                  2.0   \n",
       "4          NaN  ...          Personal         NaN                  1.0   \n",
       "\n",
       "  Total.Serious.Injuries Total.Minor.Injuries Total.Uninjured  \\\n",
       "0                    0.0                  0.0             0.0   \n",
       "1                    0.0                  0.0             0.0   \n",
       "2                    NaN                  NaN             NaN   \n",
       "3                    0.0                  0.0             0.0   \n",
       "4                    2.0                  NaN             0.0   \n",
       "\n",
       "  Weather.Condition  Broad.phase.of.flight   Report.Status Publication.Date  \n",
       "0               UNK                 Cruise  Probable Cause              NaN  \n",
       "1               UNK                Unknown  Probable Cause       19-09-1996  \n",
       "2               IMC                 Cruise  Probable Cause       26-02-2007  \n",
       "3               IMC                 Cruise  Probable Cause       12-09-2000  \n",
       "4               VMC               Approach  Probable Cause       16-04-1980  \n",
       "\n",
       "[5 rows x 31 columns]"
      ]
     },
     "execution_count": 3,
     "metadata": {},
     "output_type": "execute_result"
    }
   ],
   "source": [
    "data.head()"
   ]
  },
  {
   "cell_type": "code",
   "execution_count": 4,
   "id": "ea6bd63a",
   "metadata": {},
   "outputs": [
    {
     "data": {
      "text/html": [
       "<div>\n",
       "<style scoped>\n",
       "    .dataframe tbody tr th:only-of-type {\n",
       "        vertical-align: middle;\n",
       "    }\n",
       "\n",
       "    .dataframe tbody tr th {\n",
       "        vertical-align: top;\n",
       "    }\n",
       "\n",
       "    .dataframe thead th {\n",
       "        text-align: right;\n",
       "    }\n",
       "</style>\n",
       "<table border=\"1\" class=\"dataframe\">\n",
       "  <thead>\n",
       "    <tr style=\"text-align: right;\">\n",
       "      <th></th>\n",
       "      <th>Event.Id</th>\n",
       "      <th>Investigation.Type</th>\n",
       "      <th>Accident.Number</th>\n",
       "      <th>Event.Date</th>\n",
       "      <th>Location</th>\n",
       "      <th>Country</th>\n",
       "      <th>Latitude</th>\n",
       "      <th>Longitude</th>\n",
       "      <th>Airport.Code</th>\n",
       "      <th>Airport.Name</th>\n",
       "      <th>...</th>\n",
       "      <th>Purpose.of.flight</th>\n",
       "      <th>Air.carrier</th>\n",
       "      <th>Total.Fatal.Injuries</th>\n",
       "      <th>Total.Serious.Injuries</th>\n",
       "      <th>Total.Minor.Injuries</th>\n",
       "      <th>Total.Uninjured</th>\n",
       "      <th>Weather.Condition</th>\n",
       "      <th>Broad.phase.of.flight</th>\n",
       "      <th>Report.Status</th>\n",
       "      <th>Publication.Date</th>\n",
       "    </tr>\n",
       "  </thead>\n",
       "  <tbody>\n",
       "    <tr>\n",
       "      <th>88884</th>\n",
       "      <td>20221227106491</td>\n",
       "      <td>Accident</td>\n",
       "      <td>ERA23LA093</td>\n",
       "      <td>2022-12-26</td>\n",
       "      <td>Annapolis, MD</td>\n",
       "      <td>United States</td>\n",
       "      <td>NaN</td>\n",
       "      <td>NaN</td>\n",
       "      <td>NaN</td>\n",
       "      <td>NaN</td>\n",
       "      <td>...</td>\n",
       "      <td>Personal</td>\n",
       "      <td>NaN</td>\n",
       "      <td>0.0</td>\n",
       "      <td>1.0</td>\n",
       "      <td>0.0</td>\n",
       "      <td>0.0</td>\n",
       "      <td>NaN</td>\n",
       "      <td>NaN</td>\n",
       "      <td>NaN</td>\n",
       "      <td>29-12-2022</td>\n",
       "    </tr>\n",
       "    <tr>\n",
       "      <th>88885</th>\n",
       "      <td>20221227106494</td>\n",
       "      <td>Accident</td>\n",
       "      <td>ERA23LA095</td>\n",
       "      <td>2022-12-26</td>\n",
       "      <td>Hampton, NH</td>\n",
       "      <td>United States</td>\n",
       "      <td>NaN</td>\n",
       "      <td>NaN</td>\n",
       "      <td>NaN</td>\n",
       "      <td>NaN</td>\n",
       "      <td>...</td>\n",
       "      <td>NaN</td>\n",
       "      <td>NaN</td>\n",
       "      <td>0.0</td>\n",
       "      <td>0.0</td>\n",
       "      <td>0.0</td>\n",
       "      <td>0.0</td>\n",
       "      <td>NaN</td>\n",
       "      <td>NaN</td>\n",
       "      <td>NaN</td>\n",
       "      <td>NaN</td>\n",
       "    </tr>\n",
       "    <tr>\n",
       "      <th>88886</th>\n",
       "      <td>20221227106497</td>\n",
       "      <td>Accident</td>\n",
       "      <td>WPR23LA075</td>\n",
       "      <td>2022-12-26</td>\n",
       "      <td>Payson, AZ</td>\n",
       "      <td>United States</td>\n",
       "      <td>341525N</td>\n",
       "      <td>1112021W</td>\n",
       "      <td>PAN</td>\n",
       "      <td>PAYSON</td>\n",
       "      <td>...</td>\n",
       "      <td>Personal</td>\n",
       "      <td>NaN</td>\n",
       "      <td>0.0</td>\n",
       "      <td>0.0</td>\n",
       "      <td>0.0</td>\n",
       "      <td>1.0</td>\n",
       "      <td>VMC</td>\n",
       "      <td>NaN</td>\n",
       "      <td>NaN</td>\n",
       "      <td>27-12-2022</td>\n",
       "    </tr>\n",
       "    <tr>\n",
       "      <th>88887</th>\n",
       "      <td>20221227106498</td>\n",
       "      <td>Accident</td>\n",
       "      <td>WPR23LA076</td>\n",
       "      <td>2022-12-26</td>\n",
       "      <td>Morgan, UT</td>\n",
       "      <td>United States</td>\n",
       "      <td>NaN</td>\n",
       "      <td>NaN</td>\n",
       "      <td>NaN</td>\n",
       "      <td>NaN</td>\n",
       "      <td>...</td>\n",
       "      <td>Personal</td>\n",
       "      <td>MC CESSNA 210N LLC</td>\n",
       "      <td>0.0</td>\n",
       "      <td>0.0</td>\n",
       "      <td>0.0</td>\n",
       "      <td>0.0</td>\n",
       "      <td>NaN</td>\n",
       "      <td>NaN</td>\n",
       "      <td>NaN</td>\n",
       "      <td>NaN</td>\n",
       "    </tr>\n",
       "    <tr>\n",
       "      <th>88888</th>\n",
       "      <td>20221230106513</td>\n",
       "      <td>Accident</td>\n",
       "      <td>ERA23LA097</td>\n",
       "      <td>2022-12-29</td>\n",
       "      <td>Athens, GA</td>\n",
       "      <td>United States</td>\n",
       "      <td>NaN</td>\n",
       "      <td>NaN</td>\n",
       "      <td>NaN</td>\n",
       "      <td>NaN</td>\n",
       "      <td>...</td>\n",
       "      <td>Personal</td>\n",
       "      <td>NaN</td>\n",
       "      <td>0.0</td>\n",
       "      <td>1.0</td>\n",
       "      <td>0.0</td>\n",
       "      <td>1.0</td>\n",
       "      <td>NaN</td>\n",
       "      <td>NaN</td>\n",
       "      <td>NaN</td>\n",
       "      <td>30-12-2022</td>\n",
       "    </tr>\n",
       "  </tbody>\n",
       "</table>\n",
       "<p>5 rows × 31 columns</p>\n",
       "</div>"
      ],
      "text/plain": [
       "             Event.Id Investigation.Type Accident.Number  Event.Date  \\\n",
       "88884  20221227106491           Accident      ERA23LA093  2022-12-26   \n",
       "88885  20221227106494           Accident      ERA23LA095  2022-12-26   \n",
       "88886  20221227106497           Accident      WPR23LA075  2022-12-26   \n",
       "88887  20221227106498           Accident      WPR23LA076  2022-12-26   \n",
       "88888  20221230106513           Accident      ERA23LA097  2022-12-29   \n",
       "\n",
       "            Location        Country Latitude Longitude Airport.Code  \\\n",
       "88884  Annapolis, MD  United States      NaN       NaN          NaN   \n",
       "88885    Hampton, NH  United States      NaN       NaN          NaN   \n",
       "88886     Payson, AZ  United States  341525N  1112021W          PAN   \n",
       "88887     Morgan, UT  United States      NaN       NaN          NaN   \n",
       "88888     Athens, GA  United States      NaN       NaN          NaN   \n",
       "\n",
       "      Airport.Name  ... Purpose.of.flight         Air.carrier  \\\n",
       "88884          NaN  ...          Personal                 NaN   \n",
       "88885          NaN  ...               NaN                 NaN   \n",
       "88886       PAYSON  ...          Personal                 NaN   \n",
       "88887          NaN  ...          Personal  MC CESSNA 210N LLC   \n",
       "88888          NaN  ...          Personal                 NaN   \n",
       "\n",
       "      Total.Fatal.Injuries Total.Serious.Injuries Total.Minor.Injuries  \\\n",
       "88884                  0.0                    1.0                  0.0   \n",
       "88885                  0.0                    0.0                  0.0   \n",
       "88886                  0.0                    0.0                  0.0   \n",
       "88887                  0.0                    0.0                  0.0   \n",
       "88888                  0.0                    1.0                  0.0   \n",
       "\n",
       "      Total.Uninjured Weather.Condition  Broad.phase.of.flight Report.Status  \\\n",
       "88884             0.0               NaN                    NaN           NaN   \n",
       "88885             0.0               NaN                    NaN           NaN   \n",
       "88886             1.0               VMC                    NaN           NaN   \n",
       "88887             0.0               NaN                    NaN           NaN   \n",
       "88888             1.0               NaN                    NaN           NaN   \n",
       "\n",
       "      Publication.Date  \n",
       "88884       29-12-2022  \n",
       "88885              NaN  \n",
       "88886       27-12-2022  \n",
       "88887              NaN  \n",
       "88888       30-12-2022  \n",
       "\n",
       "[5 rows x 31 columns]"
      ]
     },
     "execution_count": 4,
     "metadata": {},
     "output_type": "execute_result"
    }
   ],
   "source": [
    "data.tail()"
   ]
  },
  {
   "cell_type": "code",
   "execution_count": 5,
   "id": "b8f9435c",
   "metadata": {},
   "outputs": [
    {
     "data": {
      "text/plain": [
       "(88889, 31)"
      ]
     },
     "execution_count": 5,
     "metadata": {},
     "output_type": "execute_result"
    }
   ],
   "source": [
    "data.shape"
   ]
  },
  {
   "cell_type": "markdown",
   "id": "699fb35f",
   "metadata": {},
   "source": [
    "The data has 88,889 rows and 31 columns."
   ]
  },
  {
   "cell_type": "code",
   "execution_count": 6,
   "id": "8bc5158d",
   "metadata": {},
   "outputs": [
    {
     "data": {
      "text/plain": [
       "Index(['Event.Id', 'Investigation.Type', 'Accident.Number', 'Event.Date',\n",
       "       'Location', 'Country', 'Latitude', 'Longitude', 'Airport.Code',\n",
       "       'Airport.Name', 'Injury.Severity', 'Aircraft.damage',\n",
       "       'Aircraft.Category', 'Registration.Number', 'Make', 'Model',\n",
       "       'Amateur.Built', 'Number.of.Engines', 'Engine.Type', 'FAR.Description',\n",
       "       'Schedule', 'Purpose.of.flight', 'Air.carrier', 'Total.Fatal.Injuries',\n",
       "       'Total.Serious.Injuries', 'Total.Minor.Injuries', 'Total.Uninjured',\n",
       "       'Weather.Condition', 'Broad.phase.of.flight', 'Report.Status',\n",
       "       'Publication.Date'],\n",
       "      dtype='object')"
      ]
     },
     "execution_count": 6,
     "metadata": {},
     "output_type": "execute_result"
    }
   ],
   "source": [
    "data.columns"
   ]
  },
  {
   "cell_type": "code",
   "execution_count": 7,
   "id": "90d85c85",
   "metadata": {},
   "outputs": [
    {
     "data": {
      "text/html": [
       "<div>\n",
       "<style scoped>\n",
       "    .dataframe tbody tr th:only-of-type {\n",
       "        vertical-align: middle;\n",
       "    }\n",
       "\n",
       "    .dataframe tbody tr th {\n",
       "        vertical-align: top;\n",
       "    }\n",
       "\n",
       "    .dataframe thead th {\n",
       "        text-align: right;\n",
       "    }\n",
       "</style>\n",
       "<table border=\"1\" class=\"dataframe\">\n",
       "  <thead>\n",
       "    <tr style=\"text-align: right;\">\n",
       "      <th></th>\n",
       "      <th>count</th>\n",
       "      <th>mean</th>\n",
       "      <th>std</th>\n",
       "      <th>min</th>\n",
       "      <th>25%</th>\n",
       "      <th>50%</th>\n",
       "      <th>75%</th>\n",
       "      <th>max</th>\n",
       "    </tr>\n",
       "  </thead>\n",
       "  <tbody>\n",
       "    <tr>\n",
       "      <th>Number.of.Engines</th>\n",
       "      <td>82805.0</td>\n",
       "      <td>1.146585</td>\n",
       "      <td>0.446510</td>\n",
       "      <td>0.0</td>\n",
       "      <td>1.0</td>\n",
       "      <td>1.0</td>\n",
       "      <td>1.0</td>\n",
       "      <td>8.0</td>\n",
       "    </tr>\n",
       "    <tr>\n",
       "      <th>Total.Fatal.Injuries</th>\n",
       "      <td>77488.0</td>\n",
       "      <td>0.647855</td>\n",
       "      <td>5.485960</td>\n",
       "      <td>0.0</td>\n",
       "      <td>0.0</td>\n",
       "      <td>0.0</td>\n",
       "      <td>0.0</td>\n",
       "      <td>349.0</td>\n",
       "    </tr>\n",
       "    <tr>\n",
       "      <th>Total.Serious.Injuries</th>\n",
       "      <td>76379.0</td>\n",
       "      <td>0.279881</td>\n",
       "      <td>1.544084</td>\n",
       "      <td>0.0</td>\n",
       "      <td>0.0</td>\n",
       "      <td>0.0</td>\n",
       "      <td>0.0</td>\n",
       "      <td>161.0</td>\n",
       "    </tr>\n",
       "    <tr>\n",
       "      <th>Total.Minor.Injuries</th>\n",
       "      <td>76956.0</td>\n",
       "      <td>0.357061</td>\n",
       "      <td>2.235625</td>\n",
       "      <td>0.0</td>\n",
       "      <td>0.0</td>\n",
       "      <td>0.0</td>\n",
       "      <td>0.0</td>\n",
       "      <td>380.0</td>\n",
       "    </tr>\n",
       "    <tr>\n",
       "      <th>Total.Uninjured</th>\n",
       "      <td>82977.0</td>\n",
       "      <td>5.325440</td>\n",
       "      <td>27.913634</td>\n",
       "      <td>0.0</td>\n",
       "      <td>0.0</td>\n",
       "      <td>1.0</td>\n",
       "      <td>2.0</td>\n",
       "      <td>699.0</td>\n",
       "    </tr>\n",
       "  </tbody>\n",
       "</table>\n",
       "</div>"
      ],
      "text/plain": [
       "                          count      mean        std  min  25%  50%  75%  \\\n",
       "Number.of.Engines       82805.0  1.146585   0.446510  0.0  1.0  1.0  1.0   \n",
       "Total.Fatal.Injuries    77488.0  0.647855   5.485960  0.0  0.0  0.0  0.0   \n",
       "Total.Serious.Injuries  76379.0  0.279881   1.544084  0.0  0.0  0.0  0.0   \n",
       "Total.Minor.Injuries    76956.0  0.357061   2.235625  0.0  0.0  0.0  0.0   \n",
       "Total.Uninjured         82977.0  5.325440  27.913634  0.0  0.0  1.0  2.0   \n",
       "\n",
       "                          max  \n",
       "Number.of.Engines         8.0  \n",
       "Total.Fatal.Injuries    349.0  \n",
       "Total.Serious.Injuries  161.0  \n",
       "Total.Minor.Injuries    380.0  \n",
       "Total.Uninjured         699.0  "
      ]
     },
     "execution_count": 7,
     "metadata": {},
     "output_type": "execute_result"
    }
   ],
   "source": [
    "data.describe().T"
   ]
  },
  {
   "cell_type": "code",
   "execution_count": 8,
   "id": "f9cada9e",
   "metadata": {},
   "outputs": [
    {
     "name": "stdout",
     "output_type": "stream",
     "text": [
      "<class 'pandas.core.frame.DataFrame'>\n",
      "RangeIndex: 88889 entries, 0 to 88888\n",
      "Data columns (total 31 columns):\n",
      " #   Column                  Non-Null Count  Dtype  \n",
      "---  ------                  --------------  -----  \n",
      " 0   Event.Id                88889 non-null  object \n",
      " 1   Investigation.Type      88889 non-null  object \n",
      " 2   Accident.Number         88889 non-null  object \n",
      " 3   Event.Date              88889 non-null  object \n",
      " 4   Location                88837 non-null  object \n",
      " 5   Country                 88663 non-null  object \n",
      " 6   Latitude                34382 non-null  object \n",
      " 7   Longitude               34373 non-null  object \n",
      " 8   Airport.Code            50249 non-null  object \n",
      " 9   Airport.Name            52790 non-null  object \n",
      " 10  Injury.Severity         87889 non-null  object \n",
      " 11  Aircraft.damage         85695 non-null  object \n",
      " 12  Aircraft.Category       32287 non-null  object \n",
      " 13  Registration.Number     87572 non-null  object \n",
      " 14  Make                    88826 non-null  object \n",
      " 15  Model                   88797 non-null  object \n",
      " 16  Amateur.Built           88787 non-null  object \n",
      " 17  Number.of.Engines       82805 non-null  float64\n",
      " 18  Engine.Type             81812 non-null  object \n",
      " 19  FAR.Description         32023 non-null  object \n",
      " 20  Schedule                12582 non-null  object \n",
      " 21  Purpose.of.flight       82697 non-null  object \n",
      " 22  Air.carrier             16648 non-null  object \n",
      " 23  Total.Fatal.Injuries    77488 non-null  float64\n",
      " 24  Total.Serious.Injuries  76379 non-null  float64\n",
      " 25  Total.Minor.Injuries    76956 non-null  float64\n",
      " 26  Total.Uninjured         82977 non-null  float64\n",
      " 27  Weather.Condition       84397 non-null  object \n",
      " 28  Broad.phase.of.flight   61724 non-null  object \n",
      " 29  Report.Status           82508 non-null  object \n",
      " 30  Publication.Date        75118 non-null  object \n",
      "dtypes: float64(5), object(26)\n",
      "memory usage: 21.0+ MB\n"
     ]
    }
   ],
   "source": [
    "data.info()"
   ]
  },
  {
   "cell_type": "markdown",
   "id": "a12932f7",
   "metadata": {},
   "source": [
    "5 of the columns contains float values and the other 26 columns are strings. The DataFrame has some missing values, indicated by the \"Non-Null Count\" column."
   ]
  },
  {
   "cell_type": "markdown",
   "id": "7f52506b",
   "metadata": {},
   "source": [
    "# 3. Data Preparation"
   ]
  },
  {
   "cell_type": "markdown",
   "id": "8afe0e83",
   "metadata": {},
   "source": [
    "## Data Cleaning"
   ]
  },
  {
   "cell_type": "markdown",
   "id": "fa563282",
   "metadata": {},
   "source": [
    "Data cleaning is the process of fixing or removing incorrect, corrupted, incorrectly formatted, duplicate, or incomplete data within a dataset."
   ]
  },
  {
   "cell_type": "markdown",
   "id": "f41bb15c",
   "metadata": {},
   "source": [
    "### Missing Values"
   ]
  },
  {
   "cell_type": "markdown",
   "id": "53694f59",
   "metadata": {},
   "source": [
    "Through this we'll be able to know which columns in our dataset have missing values."
   ]
  },
  {
   "cell_type": "code",
   "execution_count": 9,
   "id": "d1b546fe",
   "metadata": {},
   "outputs": [
    {
     "data": {
      "text/plain": [
       "Event.Id                      0\n",
       "Investigation.Type            0\n",
       "Accident.Number               0\n",
       "Event.Date                    0\n",
       "Location                     52\n",
       "Country                     226\n",
       "Latitude                  54507\n",
       "Longitude                 54516\n",
       "Airport.Code              38640\n",
       "Airport.Name              36099\n",
       "Injury.Severity            1000\n",
       "Aircraft.damage            3194\n",
       "Aircraft.Category         56602\n",
       "Registration.Number        1317\n",
       "Make                         63\n",
       "Model                        92\n",
       "Amateur.Built               102\n",
       "Number.of.Engines          6084\n",
       "Engine.Type                7077\n",
       "FAR.Description           56866\n",
       "Schedule                  76307\n",
       "Purpose.of.flight          6192\n",
       "Air.carrier               72241\n",
       "Total.Fatal.Injuries      11401\n",
       "Total.Serious.Injuries    12510\n",
       "Total.Minor.Injuries      11933\n",
       "Total.Uninjured            5912\n",
       "Weather.Condition          4492\n",
       "Broad.phase.of.flight     27165\n",
       "Report.Status              6381\n",
       "Publication.Date          13771\n",
       "dtype: int64"
      ]
     },
     "execution_count": 9,
     "metadata": {},
     "output_type": "execute_result"
    }
   ],
   "source": [
    "data.isnull().sum()"
   ]
  },
  {
   "cell_type": "code",
   "execution_count": 10,
   "id": "18f8ea61",
   "metadata": {},
   "outputs": [
    {
     "data": {
      "text/plain": [
       "564742"
      ]
     },
     "execution_count": 10,
     "metadata": {},
     "output_type": "execute_result"
    }
   ],
   "source": [
    "data.isnull().sum().sum()"
   ]
  },
  {
   "cell_type": "markdown",
   "id": "7111114a",
   "metadata": {},
   "source": [
    "There are 564,742 missing values. To check the percentage of missing values in each column a formula will be used:"
   ]
  },
  {
   "cell_type": "code",
   "execution_count": 11,
   "id": "91e12a37",
   "metadata": {},
   "outputs": [
    {
     "data": {
      "text/html": [
       "<div>\n",
       "<style scoped>\n",
       "    .dataframe tbody tr th:only-of-type {\n",
       "        vertical-align: middle;\n",
       "    }\n",
       "\n",
       "    .dataframe tbody tr th {\n",
       "        vertical-align: top;\n",
       "    }\n",
       "\n",
       "    .dataframe thead th {\n",
       "        text-align: right;\n",
       "    }\n",
       "</style>\n",
       "<table border=\"1\" class=\"dataframe\">\n",
       "  <thead>\n",
       "    <tr style=\"text-align: right;\">\n",
       "      <th></th>\n",
       "      <th>Missing Values</th>\n",
       "      <th>Percentage(%)</th>\n",
       "    </tr>\n",
       "  </thead>\n",
       "  <tbody>\n",
       "    <tr>\n",
       "      <th>Schedule</th>\n",
       "      <td>76307</td>\n",
       "      <td>85.845268</td>\n",
       "    </tr>\n",
       "    <tr>\n",
       "      <th>Air.carrier</th>\n",
       "      <td>72241</td>\n",
       "      <td>81.271023</td>\n",
       "    </tr>\n",
       "    <tr>\n",
       "      <th>FAR.Description</th>\n",
       "      <td>56866</td>\n",
       "      <td>63.974170</td>\n",
       "    </tr>\n",
       "    <tr>\n",
       "      <th>Aircraft.Category</th>\n",
       "      <td>56602</td>\n",
       "      <td>63.677170</td>\n",
       "    </tr>\n",
       "    <tr>\n",
       "      <th>Longitude</th>\n",
       "      <td>54516</td>\n",
       "      <td>61.330423</td>\n",
       "    </tr>\n",
       "    <tr>\n",
       "      <th>Latitude</th>\n",
       "      <td>54507</td>\n",
       "      <td>61.320298</td>\n",
       "    </tr>\n",
       "    <tr>\n",
       "      <th>Airport.Code</th>\n",
       "      <td>38640</td>\n",
       "      <td>43.469946</td>\n",
       "    </tr>\n",
       "    <tr>\n",
       "      <th>Airport.Name</th>\n",
       "      <td>36099</td>\n",
       "      <td>40.611324</td>\n",
       "    </tr>\n",
       "    <tr>\n",
       "      <th>Broad.phase.of.flight</th>\n",
       "      <td>27165</td>\n",
       "      <td>30.560587</td>\n",
       "    </tr>\n",
       "    <tr>\n",
       "      <th>Publication.Date</th>\n",
       "      <td>13771</td>\n",
       "      <td>15.492356</td>\n",
       "    </tr>\n",
       "    <tr>\n",
       "      <th>Total.Serious.Injuries</th>\n",
       "      <td>12510</td>\n",
       "      <td>14.073732</td>\n",
       "    </tr>\n",
       "    <tr>\n",
       "      <th>Total.Minor.Injuries</th>\n",
       "      <td>11933</td>\n",
       "      <td>13.424608</td>\n",
       "    </tr>\n",
       "    <tr>\n",
       "      <th>Total.Fatal.Injuries</th>\n",
       "      <td>11401</td>\n",
       "      <td>12.826109</td>\n",
       "    </tr>\n",
       "    <tr>\n",
       "      <th>Engine.Type</th>\n",
       "      <td>7077</td>\n",
       "      <td>7.961615</td>\n",
       "    </tr>\n",
       "    <tr>\n",
       "      <th>Report.Status</th>\n",
       "      <td>6381</td>\n",
       "      <td>7.178616</td>\n",
       "    </tr>\n",
       "    <tr>\n",
       "      <th>Purpose.of.flight</th>\n",
       "      <td>6192</td>\n",
       "      <td>6.965991</td>\n",
       "    </tr>\n",
       "    <tr>\n",
       "      <th>Number.of.Engines</th>\n",
       "      <td>6084</td>\n",
       "      <td>6.844491</td>\n",
       "    </tr>\n",
       "    <tr>\n",
       "      <th>Total.Uninjured</th>\n",
       "      <td>5912</td>\n",
       "      <td>6.650992</td>\n",
       "    </tr>\n",
       "    <tr>\n",
       "      <th>Weather.Condition</th>\n",
       "      <td>4492</td>\n",
       "      <td>5.053494</td>\n",
       "    </tr>\n",
       "    <tr>\n",
       "      <th>Aircraft.damage</th>\n",
       "      <td>3194</td>\n",
       "      <td>3.593246</td>\n",
       "    </tr>\n",
       "    <tr>\n",
       "      <th>Registration.Number</th>\n",
       "      <td>1317</td>\n",
       "      <td>1.481623</td>\n",
       "    </tr>\n",
       "    <tr>\n",
       "      <th>Injury.Severity</th>\n",
       "      <td>1000</td>\n",
       "      <td>1.124999</td>\n",
       "    </tr>\n",
       "    <tr>\n",
       "      <th>Country</th>\n",
       "      <td>226</td>\n",
       "      <td>0.254250</td>\n",
       "    </tr>\n",
       "    <tr>\n",
       "      <th>Amateur.Built</th>\n",
       "      <td>102</td>\n",
       "      <td>0.114750</td>\n",
       "    </tr>\n",
       "    <tr>\n",
       "      <th>Model</th>\n",
       "      <td>92</td>\n",
       "      <td>0.103500</td>\n",
       "    </tr>\n",
       "    <tr>\n",
       "      <th>Make</th>\n",
       "      <td>63</td>\n",
       "      <td>0.070875</td>\n",
       "    </tr>\n",
       "    <tr>\n",
       "      <th>Location</th>\n",
       "      <td>52</td>\n",
       "      <td>0.058500</td>\n",
       "    </tr>\n",
       "  </tbody>\n",
       "</table>\n",
       "</div>"
      ],
      "text/plain": [
       "                        Missing Values  Percentage(%)\n",
       "Schedule                         76307      85.845268\n",
       "Air.carrier                      72241      81.271023\n",
       "FAR.Description                  56866      63.974170\n",
       "Aircraft.Category                56602      63.677170\n",
       "Longitude                        54516      61.330423\n",
       "Latitude                         54507      61.320298\n",
       "Airport.Code                     38640      43.469946\n",
       "Airport.Name                     36099      40.611324\n",
       "Broad.phase.of.flight            27165      30.560587\n",
       "Publication.Date                 13771      15.492356\n",
       "Total.Serious.Injuries           12510      14.073732\n",
       "Total.Minor.Injuries             11933      13.424608\n",
       "Total.Fatal.Injuries             11401      12.826109\n",
       "Engine.Type                       7077       7.961615\n",
       "Report.Status                     6381       7.178616\n",
       "Purpose.of.flight                 6192       6.965991\n",
       "Number.of.Engines                 6084       6.844491\n",
       "Total.Uninjured                   5912       6.650992\n",
       "Weather.Condition                 4492       5.053494\n",
       "Aircraft.damage                   3194       3.593246\n",
       "Registration.Number               1317       1.481623\n",
       "Injury.Severity                   1000       1.124999\n",
       "Country                            226       0.254250\n",
       "Amateur.Built                      102       0.114750\n",
       "Model                               92       0.103500\n",
       "Make                                63       0.070875\n",
       "Location                            52       0.058500"
      ]
     },
     "execution_count": 11,
     "metadata": {},
     "output_type": "execute_result"
    }
   ],
   "source": [
    "def identify_missing_values(data):\n",
    "    \"\"\"A simple function to check if data has missing values\"\"\"\n",
    "    # identify the total missing values per column\n",
    "    # sort in order \n",
    "    miss = data.isnull().sum().sort_values(ascending = False)\n",
    "\n",
    "    # calculate percentage of the missing values\n",
    "    percentage_miss = (data.isnull().sum() / len(data)).sort_values(ascending = False)*100\n",
    "\n",
    "    # store in a dataframe \n",
    "    missing = pd.DataFrame({\"Missing Values\": miss, \"Percentage(%)\": percentage_miss})\n",
    "\n",
    "    # remove values that are missing \n",
    "    missing.drop(missing[missing[\"Percentage(%)\"] == 0].index, inplace = True)\n",
    "\n",
    "    return missing\n",
    "\n",
    "missing_data = identify_missing_values(data)\n",
    "missing_data"
   ]
  },
  {
   "cell_type": "markdown",
   "id": "897ecf51",
   "metadata": {},
   "source": [
    "Through this we'll be able to know if we have any repeated rows in our dataset."
   ]
  },
  {
   "cell_type": "markdown",
   "id": "30fa792f",
   "metadata": {},
   "source": [
    "### Duplicates"
   ]
  },
  {
   "cell_type": "code",
   "execution_count": 12,
   "id": "de25c2a3",
   "metadata": {},
   "outputs": [
    {
     "data": {
      "text/plain": [
       "0"
      ]
     },
     "execution_count": 12,
     "metadata": {},
     "output_type": "execute_result"
    }
   ],
   "source": [
    "data.duplicated().sum()"
   ]
  },
  {
   "cell_type": "markdown",
   "id": "c3edc752",
   "metadata": {},
   "source": [
    "There are no duplicates in the dataset before handling missing values."
   ]
  },
  {
   "cell_type": "markdown",
   "id": "20bf4ef3",
   "metadata": {},
   "source": [
    "### Handling Missing Values"
   ]
  },
  {
   "cell_type": "code",
   "execution_count": 13,
   "id": "fe41d0b1",
   "metadata": {},
   "outputs": [
    {
     "data": {
      "text/html": [
       "<div>\n",
       "<style scoped>\n",
       "    .dataframe tbody tr th:only-of-type {\n",
       "        vertical-align: middle;\n",
       "    }\n",
       "\n",
       "    .dataframe tbody tr th {\n",
       "        vertical-align: top;\n",
       "    }\n",
       "\n",
       "    .dataframe thead th {\n",
       "        text-align: right;\n",
       "    }\n",
       "</style>\n",
       "<table border=\"1\" class=\"dataframe\">\n",
       "  <thead>\n",
       "    <tr style=\"text-align: right;\">\n",
       "      <th></th>\n",
       "      <th>Missing Values</th>\n",
       "      <th>Percentage(%)</th>\n",
       "    </tr>\n",
       "  </thead>\n",
       "  <tbody>\n",
       "    <tr>\n",
       "      <th>Schedule</th>\n",
       "      <td>76307</td>\n",
       "      <td>85.845268</td>\n",
       "    </tr>\n",
       "    <tr>\n",
       "      <th>Air.carrier</th>\n",
       "      <td>72241</td>\n",
       "      <td>81.271023</td>\n",
       "    </tr>\n",
       "    <tr>\n",
       "      <th>FAR.Description</th>\n",
       "      <td>56866</td>\n",
       "      <td>63.974170</td>\n",
       "    </tr>\n",
       "    <tr>\n",
       "      <th>Aircraft.Category</th>\n",
       "      <td>56602</td>\n",
       "      <td>63.677170</td>\n",
       "    </tr>\n",
       "    <tr>\n",
       "      <th>Longitude</th>\n",
       "      <td>54516</td>\n",
       "      <td>61.330423</td>\n",
       "    </tr>\n",
       "    <tr>\n",
       "      <th>Latitude</th>\n",
       "      <td>54507</td>\n",
       "      <td>61.320298</td>\n",
       "    </tr>\n",
       "    <tr>\n",
       "      <th>Airport.Code</th>\n",
       "      <td>38640</td>\n",
       "      <td>43.469946</td>\n",
       "    </tr>\n",
       "    <tr>\n",
       "      <th>Airport.Name</th>\n",
       "      <td>36099</td>\n",
       "      <td>40.611324</td>\n",
       "    </tr>\n",
       "    <tr>\n",
       "      <th>Broad.phase.of.flight</th>\n",
       "      <td>27165</td>\n",
       "      <td>30.560587</td>\n",
       "    </tr>\n",
       "    <tr>\n",
       "      <th>Publication.Date</th>\n",
       "      <td>13771</td>\n",
       "      <td>15.492356</td>\n",
       "    </tr>\n",
       "    <tr>\n",
       "      <th>Total.Serious.Injuries</th>\n",
       "      <td>12510</td>\n",
       "      <td>14.073732</td>\n",
       "    </tr>\n",
       "    <tr>\n",
       "      <th>Total.Minor.Injuries</th>\n",
       "      <td>11933</td>\n",
       "      <td>13.424608</td>\n",
       "    </tr>\n",
       "    <tr>\n",
       "      <th>Total.Fatal.Injuries</th>\n",
       "      <td>11401</td>\n",
       "      <td>12.826109</td>\n",
       "    </tr>\n",
       "    <tr>\n",
       "      <th>Engine.Type</th>\n",
       "      <td>7077</td>\n",
       "      <td>7.961615</td>\n",
       "    </tr>\n",
       "    <tr>\n",
       "      <th>Report.Status</th>\n",
       "      <td>6381</td>\n",
       "      <td>7.178616</td>\n",
       "    </tr>\n",
       "    <tr>\n",
       "      <th>Purpose.of.flight</th>\n",
       "      <td>6192</td>\n",
       "      <td>6.965991</td>\n",
       "    </tr>\n",
       "    <tr>\n",
       "      <th>Number.of.Engines</th>\n",
       "      <td>6084</td>\n",
       "      <td>6.844491</td>\n",
       "    </tr>\n",
       "    <tr>\n",
       "      <th>Total.Uninjured</th>\n",
       "      <td>5912</td>\n",
       "      <td>6.650992</td>\n",
       "    </tr>\n",
       "    <tr>\n",
       "      <th>Weather.Condition</th>\n",
       "      <td>4492</td>\n",
       "      <td>5.053494</td>\n",
       "    </tr>\n",
       "    <tr>\n",
       "      <th>Aircraft.damage</th>\n",
       "      <td>3194</td>\n",
       "      <td>3.593246</td>\n",
       "    </tr>\n",
       "    <tr>\n",
       "      <th>Registration.Number</th>\n",
       "      <td>1317</td>\n",
       "      <td>1.481623</td>\n",
       "    </tr>\n",
       "    <tr>\n",
       "      <th>Injury.Severity</th>\n",
       "      <td>1000</td>\n",
       "      <td>1.124999</td>\n",
       "    </tr>\n",
       "    <tr>\n",
       "      <th>Country</th>\n",
       "      <td>226</td>\n",
       "      <td>0.254250</td>\n",
       "    </tr>\n",
       "    <tr>\n",
       "      <th>Amateur.Built</th>\n",
       "      <td>102</td>\n",
       "      <td>0.114750</td>\n",
       "    </tr>\n",
       "    <tr>\n",
       "      <th>Model</th>\n",
       "      <td>92</td>\n",
       "      <td>0.103500</td>\n",
       "    </tr>\n",
       "    <tr>\n",
       "      <th>Make</th>\n",
       "      <td>63</td>\n",
       "      <td>0.070875</td>\n",
       "    </tr>\n",
       "    <tr>\n",
       "      <th>Location</th>\n",
       "      <td>52</td>\n",
       "      <td>0.058500</td>\n",
       "    </tr>\n",
       "  </tbody>\n",
       "</table>\n",
       "</div>"
      ],
      "text/plain": [
       "                        Missing Values  Percentage(%)\n",
       "Schedule                         76307      85.845268\n",
       "Air.carrier                      72241      81.271023\n",
       "FAR.Description                  56866      63.974170\n",
       "Aircraft.Category                56602      63.677170\n",
       "Longitude                        54516      61.330423\n",
       "Latitude                         54507      61.320298\n",
       "Airport.Code                     38640      43.469946\n",
       "Airport.Name                     36099      40.611324\n",
       "Broad.phase.of.flight            27165      30.560587\n",
       "Publication.Date                 13771      15.492356\n",
       "Total.Serious.Injuries           12510      14.073732\n",
       "Total.Minor.Injuries             11933      13.424608\n",
       "Total.Fatal.Injuries             11401      12.826109\n",
       "Engine.Type                       7077       7.961615\n",
       "Report.Status                     6381       7.178616\n",
       "Purpose.of.flight                 6192       6.965991\n",
       "Number.of.Engines                 6084       6.844491\n",
       "Total.Uninjured                   5912       6.650992\n",
       "Weather.Condition                 4492       5.053494\n",
       "Aircraft.damage                   3194       3.593246\n",
       "Registration.Number               1317       1.481623\n",
       "Injury.Severity                   1000       1.124999\n",
       "Country                            226       0.254250\n",
       "Amateur.Built                      102       0.114750\n",
       "Model                               92       0.103500\n",
       "Make                                63       0.070875\n",
       "Location                            52       0.058500"
      ]
     },
     "execution_count": 13,
     "metadata": {},
     "output_type": "execute_result"
    }
   ],
   "source": [
    "missing_data = identify_missing_values(data)\n",
    "missing_data"
   ]
  },
  {
   "cell_type": "markdown",
   "id": "8b2175de",
   "metadata": {},
   "source": [
    "#### Imputation\n",
    "\n",
    "These columns cannot be dropped because they are important for the analysis. Imputation will be used to deal with the missing values in these columns."
   ]
  },
  {
   "cell_type": "code",
   "execution_count": 14,
   "id": "df5437cc",
   "metadata": {},
   "outputs": [],
   "source": [
    "fill_rows = ['Air.carrier', 'FAR.Description', 'Purpose.of.flight', 'Engine.Type', 'Broad.phase.of.flight']\n",
    "rows_to_fill = [fill for fill in fill_rows if fill in data.columns]\n",
    "data[rows_to_fill] = data[rows_to_fill].fillna(value='None')"
   ]
  },
  {
   "cell_type": "markdown",
   "id": "75407aa0",
   "metadata": {},
   "source": [
    "#### Dropping Rows\n",
    "\n",
    "Rows where columns with missing values are below 15% will be dropped as most of the data will still be retained."
   ]
  },
  {
   "cell_type": "code",
   "execution_count": 15,
   "id": "ca4862a0",
   "metadata": {},
   "outputs": [],
   "source": [
    "Drop_rows = ['Total.Fatal.Injuries','Total.Uninjured','Total.Minor.Injuries','Aircraft.damage','Total.Setrious.Injuries',\n",
    "             'Injury.Severity','Location', 'Country', 'Make', 'Model', 'Amateur.Built','Weather.Condition', \n",
    "             'Number.of.Engines','Total.Serious.Injuries','Aircraft.Category']\n",
    "rows_to_drop = [row for row in Drop_rows if row in data.columns]\n",
    "data = data.dropna(subset=rows_to_drop)"
   ]
  },
  {
   "cell_type": "markdown",
   "id": "e2aa8110",
   "metadata": {},
   "source": [
    "#### Dropping Columns\n",
    "\n",
    "Columns with missing values that will not be used in the analysis are dropped."
   ]
  },
  {
   "cell_type": "code",
   "execution_count": 16,
   "id": "64cc8da8",
   "metadata": {},
   "outputs": [],
   "source": [
    "Drop_Columns = ['Latitude', 'Longitude', 'Schedule','Registration.Number', 'Publication.Date', 'Airport.Name', \n",
    "                'Airport.Code', 'Report.Status']\n",
    "columns_to_drop = [col for col in Drop_Columns if col in data.columns]\n",
    "data = data.drop(columns_to_drop, axis=1)"
   ]
  },
  {
   "cell_type": "code",
   "execution_count": 17,
   "id": "a5db7291",
   "metadata": {},
   "outputs": [
    {
     "data": {
      "text/html": [
       "<div>\n",
       "<style scoped>\n",
       "    .dataframe tbody tr th:only-of-type {\n",
       "        vertical-align: middle;\n",
       "    }\n",
       "\n",
       "    .dataframe tbody tr th {\n",
       "        vertical-align: top;\n",
       "    }\n",
       "\n",
       "    .dataframe thead th {\n",
       "        text-align: right;\n",
       "    }\n",
       "</style>\n",
       "<table border=\"1\" class=\"dataframe\">\n",
       "  <thead>\n",
       "    <tr style=\"text-align: right;\">\n",
       "      <th></th>\n",
       "      <th>Missing Values</th>\n",
       "      <th>Percentage(%)</th>\n",
       "    </tr>\n",
       "  </thead>\n",
       "  <tbody>\n",
       "  </tbody>\n",
       "</table>\n",
       "</div>"
      ],
      "text/plain": [
       "Empty DataFrame\n",
       "Columns: [Missing Values, Percentage(%)]\n",
       "Index: []"
      ]
     },
     "execution_count": 17,
     "metadata": {},
     "output_type": "execute_result"
    }
   ],
   "source": [
    "missing_data = identify_missing_values(data)\n",
    "missing_data"
   ]
  },
  {
   "cell_type": "code",
   "execution_count": 18,
   "id": "4c60c3bc",
   "metadata": {},
   "outputs": [
    {
     "data": {
      "text/plain": [
       "Event.Id                  0\n",
       "Investigation.Type        0\n",
       "Accident.Number           0\n",
       "Event.Date                0\n",
       "Location                  0\n",
       "Country                   0\n",
       "Injury.Severity           0\n",
       "Aircraft.damage           0\n",
       "Aircraft.Category         0\n",
       "Make                      0\n",
       "Model                     0\n",
       "Amateur.Built             0\n",
       "Number.of.Engines         0\n",
       "Engine.Type               0\n",
       "FAR.Description           0\n",
       "Purpose.of.flight         0\n",
       "Air.carrier               0\n",
       "Total.Fatal.Injuries      0\n",
       "Total.Serious.Injuries    0\n",
       "Total.Minor.Injuries      0\n",
       "Total.Uninjured           0\n",
       "Weather.Condition         0\n",
       "Broad.phase.of.flight     0\n",
       "dtype: int64"
      ]
     },
     "execution_count": 18,
     "metadata": {},
     "output_type": "execute_result"
    }
   ],
   "source": [
    "data.isnull().sum()"
   ]
  },
  {
   "cell_type": "code",
   "execution_count": 19,
   "id": "385aaf94",
   "metadata": {},
   "outputs": [
    {
     "data": {
      "text/plain": [
       "0"
      ]
     },
     "execution_count": 19,
     "metadata": {},
     "output_type": "execute_result"
    }
   ],
   "source": [
    "data.isnull().sum().sum()"
   ]
  },
  {
   "cell_type": "markdown",
   "id": "fe961736",
   "metadata": {},
   "source": [
    "There are no missing values in the dataset."
   ]
  },
  {
   "cell_type": "code",
   "execution_count": 20,
   "id": "d6387d40",
   "metadata": {},
   "outputs": [
    {
     "data": {
      "text/plain": [
       "Index(['Event.Id', 'Investigation.Type', 'Accident.Number', 'Event.Date',\n",
       "       'Location', 'Country', 'Injury.Severity', 'Aircraft.damage',\n",
       "       'Aircraft.Category', 'Make', 'Model', 'Amateur.Built',\n",
       "       'Number.of.Engines', 'Engine.Type', 'FAR.Description',\n",
       "       'Purpose.of.flight', 'Air.carrier', 'Total.Fatal.Injuries',\n",
       "       'Total.Serious.Injuries', 'Total.Minor.Injuries', 'Total.Uninjured',\n",
       "       'Weather.Condition', 'Broad.phase.of.flight'],\n",
       "      dtype='object')"
      ]
     },
     "execution_count": 20,
     "metadata": {},
     "output_type": "execute_result"
    }
   ],
   "source": [
    "data.columns"
   ]
  },
  {
   "cell_type": "code",
   "execution_count": 21,
   "id": "75d55d5a",
   "metadata": {},
   "outputs": [
    {
     "data": {
      "text/plain": [
       "(23069, 23)"
      ]
     },
     "execution_count": 21,
     "metadata": {},
     "output_type": "execute_result"
    }
   ],
   "source": [
    "data.shape"
   ]
  },
  {
   "cell_type": "markdown",
   "id": "ce70f3c1",
   "metadata": {},
   "source": [
    "The dataset has 23,069 rows and 23 columns."
   ]
  },
  {
   "cell_type": "markdown",
   "id": "d55d1a64",
   "metadata": {},
   "source": [
    "### Checking for duplicates after handling missing values"
   ]
  },
  {
   "cell_type": "code",
   "execution_count": 22,
   "id": "39ea6a27",
   "metadata": {},
   "outputs": [
    {
     "data": {
      "text/plain": [
       "1"
      ]
     },
     "execution_count": 22,
     "metadata": {},
     "output_type": "execute_result"
    }
   ],
   "source": [
    "data.duplicated().sum()"
   ]
  },
  {
   "cell_type": "markdown",
   "id": "470d609e",
   "metadata": {},
   "source": [
    "There is 1 duplicate in our dataset after handling missing values"
   ]
  },
  {
   "cell_type": "markdown",
   "id": "ff30df6f",
   "metadata": {},
   "source": [
    "### Handling Duplicates"
   ]
  },
  {
   "cell_type": "code",
   "execution_count": 23,
   "id": "0c4ee154",
   "metadata": {},
   "outputs": [],
   "source": [
    "data.drop_duplicates(inplace=True)"
   ]
  },
  {
   "cell_type": "code",
   "execution_count": 24,
   "id": "82556939",
   "metadata": {},
   "outputs": [
    {
     "data": {
      "text/plain": [
       "0"
      ]
     },
     "execution_count": 24,
     "metadata": {},
     "output_type": "execute_result"
    }
   ],
   "source": [
    "data.duplicated().sum()"
   ]
  },
  {
   "cell_type": "code",
   "execution_count": 25,
   "id": "84d84422",
   "metadata": {},
   "outputs": [
    {
     "data": {
      "text/plain": [
       "(23068, 23)"
      ]
     },
     "execution_count": 25,
     "metadata": {},
     "output_type": "execute_result"
    }
   ],
   "source": [
    "data.shape"
   ]
  },
  {
   "cell_type": "markdown",
   "id": "5741f464",
   "metadata": {},
   "source": [
    "After removing the duplicate row the dataset has 23,068 rows and 23 columns."
   ]
  },
  {
   "cell_type": "markdown",
   "id": "ac2ab2ec",
   "metadata": {},
   "source": [
    "### Type Conversion"
   ]
  },
  {
   "cell_type": "markdown",
   "id": "5d0d8767",
   "metadata": {},
   "source": [
    "This is the process of converting data of one type to another."
   ]
  },
  {
   "cell_type": "code",
   "execution_count": 26,
   "id": "e7dee922",
   "metadata": {},
   "outputs": [
    {
     "name": "stdout",
     "output_type": "stream",
     "text": [
      "<class 'pandas.core.frame.DataFrame'>\n",
      "Int64Index: 23068 entries, 7 to 88886\n",
      "Data columns (total 23 columns):\n",
      " #   Column                  Non-Null Count  Dtype  \n",
      "---  ------                  --------------  -----  \n",
      " 0   Event.Id                23068 non-null  object \n",
      " 1   Investigation.Type      23068 non-null  object \n",
      " 2   Accident.Number         23068 non-null  object \n",
      " 3   Event.Date              23068 non-null  object \n",
      " 4   Location                23068 non-null  object \n",
      " 5   Country                 23068 non-null  object \n",
      " 6   Injury.Severity         23068 non-null  object \n",
      " 7   Aircraft.damage         23068 non-null  object \n",
      " 8   Aircraft.Category       23068 non-null  object \n",
      " 9   Make                    23068 non-null  object \n",
      " 10  Model                   23068 non-null  object \n",
      " 11  Amateur.Built           23068 non-null  object \n",
      " 12  Number.of.Engines       23068 non-null  float64\n",
      " 13  Engine.Type             23068 non-null  object \n",
      " 14  FAR.Description         23068 non-null  object \n",
      " 15  Purpose.of.flight       23068 non-null  object \n",
      " 16  Air.carrier             23068 non-null  object \n",
      " 17  Total.Fatal.Injuries    23068 non-null  float64\n",
      " 18  Total.Serious.Injuries  23068 non-null  float64\n",
      " 19  Total.Minor.Injuries    23068 non-null  float64\n",
      " 20  Total.Uninjured         23068 non-null  float64\n",
      " 21  Weather.Condition       23068 non-null  object \n",
      " 22  Broad.phase.of.flight   23068 non-null  object \n",
      "dtypes: float64(5), object(18)\n",
      "memory usage: 4.2+ MB\n"
     ]
    }
   ],
   "source": [
    "data.info()"
   ]
  },
  {
   "cell_type": "code",
   "execution_count": 27,
   "id": "cfe5dbd3",
   "metadata": {},
   "outputs": [],
   "source": [
    "Int_Conversion = ['Number.of.Engines', 'Total.Fatal.Injuries', 'Total.Serious.Injuries', 'Total.Minor.Injuries',\n",
    "                  'Total.Uninjured' ]\n",
    "for column in Int_Conversion:\n",
    "    data[column] = data[column].astype(int)"
   ]
  },
  {
   "cell_type": "code",
   "execution_count": 28,
   "id": "1678f539",
   "metadata": {},
   "outputs": [],
   "source": [
    "# Format the date into the pandas date format\n",
    "data['Event.Date'] = pd.to_datetime(data['Event.Date'])"
   ]
  },
  {
   "cell_type": "code",
   "execution_count": 29,
   "id": "38788fb1",
   "metadata": {},
   "outputs": [
    {
     "name": "stdout",
     "output_type": "stream",
     "text": [
      "<class 'pandas.core.frame.DataFrame'>\n",
      "Int64Index: 23068 entries, 7 to 88886\n",
      "Data columns (total 23 columns):\n",
      " #   Column                  Non-Null Count  Dtype         \n",
      "---  ------                  --------------  -----         \n",
      " 0   Event.Id                23068 non-null  object        \n",
      " 1   Investigation.Type      23068 non-null  object        \n",
      " 2   Accident.Number         23068 non-null  object        \n",
      " 3   Event.Date              23068 non-null  datetime64[ns]\n",
      " 4   Location                23068 non-null  object        \n",
      " 5   Country                 23068 non-null  object        \n",
      " 6   Injury.Severity         23068 non-null  object        \n",
      " 7   Aircraft.damage         23068 non-null  object        \n",
      " 8   Aircraft.Category       23068 non-null  object        \n",
      " 9   Make                    23068 non-null  object        \n",
      " 10  Model                   23068 non-null  object        \n",
      " 11  Amateur.Built           23068 non-null  object        \n",
      " 12  Number.of.Engines       23068 non-null  int32         \n",
      " 13  Engine.Type             23068 non-null  object        \n",
      " 14  FAR.Description         23068 non-null  object        \n",
      " 15  Purpose.of.flight       23068 non-null  object        \n",
      " 16  Air.carrier             23068 non-null  object        \n",
      " 17  Total.Fatal.Injuries    23068 non-null  int32         \n",
      " 18  Total.Serious.Injuries  23068 non-null  int32         \n",
      " 19  Total.Minor.Injuries    23068 non-null  int32         \n",
      " 20  Total.Uninjured         23068 non-null  int32         \n",
      " 21  Weather.Condition       23068 non-null  object        \n",
      " 22  Broad.phase.of.flight   23068 non-null  object        \n",
      "dtypes: datetime64[ns](1), int32(5), object(17)\n",
      "memory usage: 3.8+ MB\n"
     ]
    }
   ],
   "source": [
    "data.info()"
   ]
  },
  {
   "cell_type": "markdown",
   "id": "3ac69204",
   "metadata": {},
   "source": [
    "### Data Consistency"
   ]
  },
  {
   "cell_type": "code",
   "execution_count": 30,
   "id": "e97303f3",
   "metadata": {},
   "outputs": [
    {
     "name": "stdout",
     "output_type": "stream",
     "text": [
      "Unique makes: ['Cessna' 'Bellanca' 'Navion' ... 'CHILDS MICHAEL  A' 'GREG HOBBS'\n",
      " 'ORLICAN S R O']\n"
     ]
    }
   ],
   "source": [
    "# Get a list of unique values in the 'Make' column\n",
    "unique_makes = data['Make'].unique()\n",
    "\n",
    "print(\"Unique makes:\", unique_makes)"
   ]
  },
  {
   "cell_type": "code",
   "execution_count": 31,
   "id": "547ee1f9",
   "metadata": {},
   "outputs": [
    {
     "data": {
      "text/plain": [
       "7                            Cessna\n",
       "8                            Cessna\n",
       "12                         Bellanca\n",
       "13                           Cessna\n",
       "14                           Navion\n",
       "                    ...            \n",
       "88859      Arado-flugzeugwerke gmbh\n",
       "88865                        Cessna\n",
       "88873            Cirrus design corp\n",
       "88877                        Cessna\n",
       "88886    American champion aircraft\n",
       "Name: Make, Length: 23068, dtype: object"
      ]
     },
     "execution_count": 31,
     "metadata": {},
     "output_type": "execute_result"
    }
   ],
   "source": [
    "# Convert 'Make' column to lowercase and then capitalize the first letter\n",
    "data['Make'] = data['Make'].str.lower().str.capitalize()\n",
    "data['Make']"
   ]
  },
  {
   "cell_type": "code",
   "execution_count": 32,
   "id": "e6e8ff77",
   "metadata": {},
   "outputs": [
    {
     "name": "stdout",
     "output_type": "stream",
     "text": [
      "Unique makes: ['VMC' 'IMC' 'UNK' 'Unk']\n"
     ]
    }
   ],
   "source": [
    "# Get a list of unique values in the 'Weather.Condition' column\n",
    "unique_makes = data['Weather.Condition'].unique()\n",
    "\n",
    "print(\"Unique makes:\", unique_makes)"
   ]
  },
  {
   "cell_type": "code",
   "execution_count": 33,
   "id": "9a06783f",
   "metadata": {},
   "outputs": [
    {
     "data": {
      "text/plain": [
       "7        VMC\n",
       "8        IMC\n",
       "12       IMC\n",
       "13       IMC\n",
       "14       IMC\n",
       "        ... \n",
       "88859    VMC\n",
       "88865    VMC\n",
       "88873    VMC\n",
       "88877    VMC\n",
       "88886    VMC\n",
       "Name: Weather.Condition, Length: 23068, dtype: object"
      ]
     },
     "execution_count": 33,
     "metadata": {},
     "output_type": "execute_result"
    }
   ],
   "source": [
    "# Convert 'Weather.Condition'' column to lowercase and then capitalize the first letter\n",
    "data['Weather.Condition'] = data['Weather.Condition'].str.upper()\n",
    "data['Weather.Condition']"
   ]
  },
  {
   "cell_type": "markdown",
   "id": "e5080835",
   "metadata": {},
   "source": [
    "# 4. Data Analysis"
   ]
  },
  {
   "cell_type": "markdown",
   "id": "642f6626",
   "metadata": {},
   "source": [
    "# Exploratory Data Analysis"
   ]
  },
  {
   "cell_type": "markdown",
   "id": "f4fe0124",
   "metadata": {},
   "source": [
    "### Univariate Analysis"
   ]
  },
  {
   "cell_type": "markdown",
   "id": "344f442d",
   "metadata": {},
   "source": [
    "### a) Event Month"
   ]
  },
  {
   "cell_type": "code",
   "execution_count": 34,
   "id": "432c9914",
   "metadata": {},
   "outputs": [
    {
     "data": {
      "image/png": "[encoded data removed]",
      "text/plain": [
       "<Figure size 800x600 with 1 Axes>"
      ]
     },
     "metadata": {},
     "output_type": "display_data"
    },
    {
     "data": {
      "text/plain": [
       "<Figure size 640x480 with 0 Axes>"
      ]
     },
     "metadata": {},
     "output_type": "display_data"
    }
   ],
   "source": [
    "# Convert 'Event.Date' to months\n",
    "data['Month'] = data['Event.Date'].dt.month\n",
    "\n",
    "# Create a histogram\n",
    "plt.figure(figsize=(8, 6))\n",
    "ax = sns.histplot(data=data, x='Month', color='green', bins=12)\n",
    "\n",
    "# Set the x-axis labels to full month names\n",
    "ax.set_xticks(range(1, 13))\n",
    "ax.set_xticklabels([calendar.month_name[i] for i in range(1, 13)], rotation=45) \n",
    "\n",
    "plt.title('Distribution of Event Months')\n",
    "plt.xlabel('Month')\n",
    "plt.ylabel('Frequency')\n",
    "plt.show()\n",
    "\n",
    "plt.savefig('Distribution of Event Months.png');"
   ]
  },
  {
   "cell_type": "markdown",
   "id": "0c1d2861",
   "metadata": {},
   "source": [
    "Most of the accidents happen between June, July and August. This can be attributed to the season of summer where most people are on holidays and are travelling more."
   ]
  },
  {
   "cell_type": "code",
   "execution_count": 35,
   "id": "eac07863",
   "metadata": {},
   "outputs": [
    {
     "data": {
      "image/png": "[encoded data removed]",
      "text/plain": [
       "<Figure size 800x600 with 1 Axes>"
      ]
     },
     "metadata": {},
     "output_type": "display_data"
    },
    {
     "data": {
      "text/plain": [
       "<Figure size 640x480 with 0 Axes>"
      ]
     },
     "metadata": {},
     "output_type": "display_data"
    }
   ],
   "source": [
    "# Extract the day of the week from the 'Event.Date' column\n",
    "data['Day_of_Week'] = data['Event.Date'].dt.day_name()\n",
    "\n",
    "# Specify the order of days of the week\n",
    "days_of_week = ['Monday', 'Tuesday', 'Wednesday', 'Thursday', 'Friday', 'Saturday', 'Sunday']\n",
    "\n",
    "# Sort the data by the order of days_of_week\n",
    "data['Day_of_Week'] = pd.Categorical(data['Day_of_Week'], categories=days_of_week, ordered=True)\n",
    "\n",
    "# Create a histogram\n",
    "plt.figure(figsize=(8, 6))\n",
    "sns.histplot(data=data, x='Day_of_Week', color='green', bins=7, discrete=True)\n",
    "plt.title('Distribution of Event Days of the Week')\n",
    "plt.xlabel('Day of the Week')\n",
    "plt.ylabel('Frequency')\n",
    "plt.xticks(rotation=45)\n",
    "plt.show()\n",
    "\n",
    "plt.savefig('Distribution of Event Days.png');"
   ]
  },
  {
   "cell_type": "markdown",
   "id": "099a8613",
   "metadata": {},
   "source": [
    "Most of the accidents also happen between Friday, Saturday and Sunday. This can be attributed to the weekend where most people are also travelling more."
   ]
  },
  {
   "cell_type": "markdown",
   "id": "10148d18",
   "metadata": {},
   "source": [
    "### b) Aircraft Category"
   ]
  },
  {
   "cell_type": "code",
   "execution_count": 36,
   "id": "0379349b",
   "metadata": {},
   "outputs": [
    {
     "data": {
      "image/png": "[encoded data removed]",
      "text/plain": [
       "<Figure size 800x600 with 1 Axes>"
      ]
     },
     "metadata": {},
     "output_type": "display_data"
    },
    {
     "data": {
      "text/plain": [
       "<Figure size 640x480 with 0 Axes>"
      ]
     },
     "metadata": {},
     "output_type": "display_data"
    }
   ],
   "source": [
    "plt.figure(figsize=(8, 6))\n",
    "sns.histplot(data=data, y='Aircraft.Category', color='green', bins=15)\n",
    "plt.title('Distribution of Aircraft Category.')\n",
    "plt.xlabel('Frequency')\n",
    "plt.ylabel('Aircraft')\n",
    "plt.yticks(rotation=45)\n",
    "plt.show()\n",
    "\n",
    "plt.savefig('Distribution of Aircraft Category.png');"
   ]
  },
  {
   "cell_type": "markdown",
   "id": "3187de2f",
   "metadata": {},
   "source": [
    "Airplanes are more prone to accidents whereby Helicopters, Gliders and Gyrocraft are less likely to be in accidents."
   ]
  },
  {
   "cell_type": "markdown",
   "id": "67b83e22",
   "metadata": {},
   "source": [
    "### c) Make"
   ]
  },
  {
   "cell_type": "code",
   "execution_count": 37,
   "id": "06285140",
   "metadata": {},
   "outputs": [
    {
     "data": {
      "image/png": "[encoded data removed]",
      "text/plain": [
       "<Figure size 800x600 with 1 Axes>"
      ]
     },
     "metadata": {},
     "output_type": "display_data"
    },
    {
     "data": {
      "text/plain": [
       "<Figure size 640x480 with 0 Axes>"
      ]
     },
     "metadata": {},
     "output_type": "display_data"
    }
   ],
   "source": [
    "# Get the top 10 makes\n",
    "top_10_makes = data['Make'].value_counts().head(10).index.tolist()\n",
    "\n",
    "# Filter the data to include only the top 10 makes\n",
    "top_10_data = data[data['Make'].isin(top_10_makes)]\n",
    "\n",
    "# Plot the histogram\n",
    "plt.figure(figsize=(8, 6))\n",
    "sns.histplot(data=top_10_data, y='Make', color='green', bins=10)\n",
    "plt.title('Distribution of Aircraft Makes')\n",
    "plt.xlabel('Frequency')\n",
    "plt.ylabel('Make')\n",
    "plt.yticks(rotation=45)\n",
    "plt.show()\n",
    "\n",
    "plt.savefig('Distribution of Aircraft Makes.png');"
   ]
  },
  {
   "cell_type": "markdown",
   "id": "c9590402",
   "metadata": {},
   "source": [
    "Cessna, Piper, and Beech are makes of aircrafts with more aviation accidents."
   ]
  },
  {
   "cell_type": "markdown",
   "id": "4f5c2716",
   "metadata": {},
   "source": [
    "### d) Engine Type"
   ]
  },
  {
   "cell_type": "code",
   "execution_count": 38,
   "id": "3002a641",
   "metadata": {},
   "outputs": [
    {
     "data": {
      "image/png": "[encoded data removed]",
      "text/plain": [
       "<Figure size 800x600 with 1 Axes>"
      ]
     },
     "metadata": {},
     "output_type": "display_data"
    },
    {
     "data": {
      "text/plain": [
       "<Figure size 640x480 with 0 Axes>"
      ]
     },
     "metadata": {},
     "output_type": "display_data"
    }
   ],
   "source": [
    "# Filter out rows with 'None' in the Engine Type column\n",
    "filtered_data = data[data['Engine.Type'] != 'None']\n",
    "\n",
    "# Create a histogram\n",
    "plt.figure(figsize=(8, 6))\n",
    "sns.histplot(data=filtered_data, y='Engine.Type', color='green', bins=13)\n",
    "plt.title('Distribution of Engine Type')\n",
    "plt.ylabel('Engine Type')\n",
    "plt.yticks(rotation=45)\n",
    "plt.xlabel('Frequency')\n",
    "plt.show()\n",
    "\n",
    "plt.savefig('Distribution of Engine Type.png');"
   ]
  },
  {
   "cell_type": "markdown",
   "id": "e952d30c",
   "metadata": {},
   "source": [
    "Aircrafts with Reciprocating Engine Type have a high chance of being in an accident."
   ]
  },
  {
   "cell_type": "markdown",
   "id": "a8114894",
   "metadata": {},
   "source": [
    "### e) Engine Number"
   ]
  },
  {
   "cell_type": "code",
   "execution_count": 39,
   "id": "ee0b74ab",
   "metadata": {},
   "outputs": [
    {
     "data": {
      "image/png": "[encoded data removed]",
      "text/plain": [
       "<Figure size 800x600 with 1 Axes>"
      ]
     },
     "metadata": {},
     "output_type": "display_data"
    },
    {
     "data": {
      "text/plain": [
       "<Figure size 640x480 with 0 Axes>"
      ]
     },
     "metadata": {},
     "output_type": "display_data"
    }
   ],
   "source": [
    "# Create a histogram\n",
    "plt.figure(figsize=(8, 6))\n",
    "sns.histplot(data=data, x='Number.of.Engines', color='green', bins=10)\n",
    "plt.title('Distribution of Number of Engines')\n",
    "plt.xlabel('Number of Engines')\n",
    "plt.ylabel('Frequency')\n",
    "plt.show()\n",
    "\n",
    "plt.savefig('Distribution of Engine Numbers.png');"
   ]
  },
  {
   "cell_type": "markdown",
   "id": "eafd95fe",
   "metadata": {},
   "source": [
    "1 engine aircrafts have more counts of accidents."
   ]
  },
  {
   "cell_type": "markdown",
   "id": "ed17227d",
   "metadata": {},
   "source": [
    "### f) Flight Purpose"
   ]
  },
  {
   "cell_type": "code",
   "execution_count": 40,
   "id": "af59ea49",
   "metadata": {},
   "outputs": [
    {
     "data": {
      "image/png": "[encoded data removed]",
      "text/plain": [
       "<Figure size 800x600 with 1 Axes>"
      ]
     },
     "metadata": {},
     "output_type": "display_data"
    },
    {
     "data": {
      "text/plain": [
       "<Figure size 640x480 with 0 Axes>"
      ]
     },
     "metadata": {},
     "output_type": "display_data"
    }
   ],
   "source": [
    "top_10 = data['Purpose.of.flight'].value_counts().head(10).index.tolist()\n",
    "\n",
    "# Filter the data to include only the top 10 makes\n",
    "top_10_data = data[data['Purpose.of.flight'].isin(top_10) & \n",
    "                            (data['Purpose.of.flight'] != 'None')]\n",
    "\n",
    "# Create a histogram\n",
    "plt.figure(figsize=(8, 6))\n",
    "sns.histplot(data=top_10_data, y='Purpose.of.flight', color='green', bins=10)\n",
    "plt.title('Distribution of Flight Purpose')\n",
    "plt.ylabel(' Flight Purpose')\n",
    "plt.yticks(rotation=45)\n",
    "plt.xlabel('Frequency')\n",
    "plt.show()\n",
    "\n",
    "plt.savefig('Distribution of Flight Purpose.png');"
   ]
  },
  {
   "cell_type": "markdown",
   "id": "2503c8cf",
   "metadata": {},
   "source": [
    "Top five flight purposes for the aircrafts that are involved in accidents are personal, instructional, aerial application, business and positioning. Since the stakeholder is looking to purchase and operate aircrafts for commercial and private enterprises this is the main variable  to be used in the bivariate analysis. "
   ]
  },
  {
   "cell_type": "markdown",
   "id": "b78fbf5c",
   "metadata": {},
   "source": [
    "### Bivariate Analysis"
   ]
  },
  {
   "cell_type": "markdown",
   "id": "d5fac724",
   "metadata": {},
   "source": [
    "### a) Flight Purpose and Make"
   ]
  },
  {
   "cell_type": "code",
   "execution_count": 41,
   "id": "2ecd7f4b",
   "metadata": {},
   "outputs": [
    {
     "data": {
      "text/plain": [
       "<Figure size 800x600 with 0 Axes>"
      ]
     },
     "metadata": {},
     "output_type": "display_data"
    },
    {
     "data": {
      "image/png": "[encoded data removed]",
      "text/plain": [
       "<Figure size 640x480 with 1 Axes>"
      ]
     },
     "metadata": {},
     "output_type": "display_data"
    },
    {
     "data": {
      "text/plain": [
       "<Figure size 640x480 with 0 Axes>"
      ]
     },
     "metadata": {},
     "output_type": "display_data"
    }
   ],
   "source": [
    "# Get the top 5 values for 'Purpose of Flight' and 'Make'\n",
    "top_5_purpose = data['Purpose.of.flight'].value_counts().head(5).index.tolist()\n",
    "top_5_make = data['Make'].value_counts().head(5).index.tolist()\n",
    "\n",
    "# Filter the data to include only the top 5 values for both columns and exclude 'None'\n",
    "filtered_data = data[(data['Purpose.of.flight'].isin(top_5_purpose)) & (data['Purpose.of.flight']\n",
    "                              != 'None') & (data['Make'].isin(top_5_make)) & (data['Make'] != 'None')]\n",
    "\n",
    "# Create a cross-tabulation of the two columns\n",
    "cross_tab = pd.crosstab(filtered_data['Purpose.of.flight'], filtered_data['Make'])\n",
    "\n",
    "# Plot a clustered bar chart\n",
    "plt.figure(figsize=(8, 6))\n",
    "cross_tab.plot(kind='bar', stacked=False)\n",
    "plt.title('Distribution of Flight Purpose and Make')\n",
    "plt.xlabel('Purpose of Flight')\n",
    "plt.ylabel('Frequency')\n",
    "plt.legend(title='Make')\n",
    "plt.xticks(rotation=45)\n",
    "plt.show()\n",
    "\n",
    "plt.savefig('Distribution of Flight Purpose and Make.png');"
   ]
  },
  {
   "cell_type": "markdown",
   "id": "810891a7",
   "metadata": {},
   "source": [
    "Aircrafts of the make Bell or Mooney are less prone to accidents."
   ]
  },
  {
   "cell_type": "markdown",
   "id": "aea0092f",
   "metadata": {},
   "source": [
    "### b) Flight Purpose and Aircraft Category"
   ]
  },
  {
   "cell_type": "code",
   "execution_count": 42,
   "id": "d76c2ab2",
   "metadata": {},
   "outputs": [
    {
     "data": {
      "text/plain": [
       "<Figure size 800x600 with 0 Axes>"
      ]
     },
     "metadata": {},
     "output_type": "display_data"
    },
    {
     "data": {
      "image/png": "[encoded data removed]",
      "text/plain": [
       "<Figure size 640x480 with 1 Axes>"
      ]
     },
     "metadata": {},
     "output_type": "display_data"
    },
    {
     "data": {
      "text/plain": [
       "<Figure size 640x480 with 0 Axes>"
      ]
     },
     "metadata": {},
     "output_type": "display_data"
    }
   ],
   "source": [
    "# Get the top 5 values\n",
    "top_5_purpose = data['Purpose.of.flight'].value_counts().head(5).index.tolist()\n",
    "top_5_category = data['Aircraft.Category'].value_counts().head(5).index.tolist()\n",
    "\n",
    "# Filter the data to include only the top 5 values and exclude 'None\n",
    "filtered_data = data[(data['Purpose.of.flight'].isin(top_5_purpose)) & (data['Purpose.of.flight']\n",
    "                              != 'None') & (data['Aircraft.Category'].isin(top_5_category))]\n",
    "\n",
    "# Create a cross-tabulation of the two columns\n",
    "cross_tab = pd.crosstab(filtered_data['Purpose.of.flight'], filtered_data['Aircraft.Category'])\n",
    "\n",
    "# Plot a clustered bar chart\n",
    "plt.figure(figsize=(8, 6))\n",
    "cross_tab.plot(kind='bar', stacked=False)\n",
    "plt.title('Distribution of Flight Purpose and Aircraft Category')\n",
    "plt.xlabel('Purpose of Flight')\n",
    "plt.ylabel('Frequency')\n",
    "plt.legend(title='Aircraft Category')\n",
    "plt.xticks(rotation=45)\n",
    "plt.show()\n",
    "\n",
    "plt.savefig('Distribution of Flight Purpose and Aircraft Category.png');"
   ]
  },
  {
   "cell_type": "markdown",
   "id": "337b62b0",
   "metadata": {},
   "source": [
    " A helicopter instead of an Airplane is less risky."
   ]
  },
  {
   "cell_type": "markdown",
   "id": "13166517",
   "metadata": {},
   "source": [
    "### c) Flight Purpose and Engine Type"
   ]
  },
  {
   "cell_type": "code",
   "execution_count": 43,
   "id": "3bd56acf",
   "metadata": {},
   "outputs": [
    {
     "data": {
      "text/plain": [
       "<Figure size 800x600 with 0 Axes>"
      ]
     },
     "metadata": {},
     "output_type": "display_data"
    },
    {
     "data": {
      "image/png": "[encoded data removed]",
      "text/plain": [
       "<Figure size 640x480 with 1 Axes>"
      ]
     },
     "metadata": {},
     "output_type": "display_data"
    },
    {
     "data": {
      "text/plain": [
       "<Figure size 640x480 with 0 Axes>"
      ]
     },
     "metadata": {},
     "output_type": "display_data"
    }
   ],
   "source": [
    "# Get the top values for the columns\n",
    "top_5_purpose = data['Purpose.of.flight'].value_counts().head(10).index.tolist()\n",
    "top_5_type = data['Engine.Type'].value_counts().head(5).index.tolist()\n",
    "\n",
    "# Filter the data to include only the top values and exclude 'None\n",
    "filtered_data = data[(data['Purpose.of.flight'].isin(top_5_purpose)) & (data['Purpose.of.flight']\n",
    "                              != 'None') & (data['Engine.Type'].isin(top_5_type)) & \n",
    "                              (data['Engine.Type'] != 'None')]\n",
    "\n",
    "# Create a cross-tabulation of the two columns\n",
    "cross_tab = pd.crosstab(filtered_data['Purpose.of.flight'], filtered_data['Engine.Type'])\n",
    "\n",
    "# Plot a clustered bar chart\n",
    "plt.figure(figsize=(8, 6))\n",
    "cross_tab.plot(kind='bar', stacked=False)\n",
    "plt.title('Distribution of Flight Purpose and Engine Type')\n",
    "plt.xlabel('Purpose of Flight')\n",
    "plt.ylabel('Frequency')\n",
    "plt.legend(title='Engine Type')\n",
    "plt.xticks(rotation=45)\n",
    "plt.show()\n",
    "\n",
    "plt.savefig('Distribution of Flight Purpose and Engine Type.png');"
   ]
  },
  {
   "cell_type": "markdown",
   "id": "511592eb",
   "metadata": {},
   "source": [
    "Aircrafts with engine type of Turbo Shaft, Turbo Fan, Turbo Prop are not as prone to accidents as the reciprocating engine."
   ]
  },
  {
   "cell_type": "markdown",
   "id": "ccb1723b",
   "metadata": {},
   "source": [
    "## 5. Conclusion"
   ]
  },
  {
   "cell_type": "markdown",
   "id": "d05f9614",
   "metadata": {},
   "source": [
    "For data cleaning, missing values were addressed, duplicates were eliminated, type conversions were performed, and data consistency was ensured by standardizing string formats in certain columns.\n",
    "\n",
    "The top five flight purposes for aircraft involved in accidents were personal, instructional, aerial application, business, and positioning. Given that the stakeholder plans to purchase and operate aircraft for both commercial and private use, this variable was the focus of the bivariate analysis."
   ]
  },
  {
   "cell_type": "markdown",
   "id": "805c2dea",
   "metadata": {},
   "source": [
    "## 6. Recommendations"
   ]
  },
  {
   "cell_type": "markdown",
   "id": "6c8661a5",
   "metadata": {},
   "source": [
    "The head of the new aviation division is advised to consider the following:\n",
    "\n",
    "1. Purchase aircrafts from the Bell or Mooney manufacturers.\n",
    "2. Opt for a helicopter over an airplane.\n",
    "3. Choose aircrafts with Turbo Shaft, Turbo Fan, or Turbo Prop engine types."
   ]
  }
 ],
 "metadata": {
  "kernelspec": {
   "display_name": "Python (learn-env)",
   "language": "python",
   "name": "learn-env"
  },
  "language_info": {
   "codemirror_mode": {
    "name": "ipython",
    "version": 3
   },
   "file_extension": ".py",
   "mimetype": "text/x-python",
   "name": "python",
   "nbconvert_exporter": "python",
   "pygments_lexer": "ipython3",
   "version": "3.8.5"
  }
 },
 "nbformat": 4,
 "nbformat_minor": 5
}
